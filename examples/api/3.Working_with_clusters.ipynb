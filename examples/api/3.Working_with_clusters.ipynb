{
 "cells": [
  {
   "cell_type": "markdown",
   "id": "70cd36c1-f4e8-4c97-b67d-b81b3676b7d4",
   "metadata": {},
   "source": [
    "# Working with clusters\n",
    "\n",
    "This notebook shows how to work with clusters in CLAP. \n",
    "We will use a cluster `npb-cluster` defined in `examples/cli/1. Creating a cluster.ipynb` notebook (pre-requesite). \n",
    "\n",
    "This notebook covers:\n",
    "* How to start and setup a cluster\n",
    "* How to grow a cluster (adding more nodes to it) and how to shrink it\n",
    "* How to get cluster nodes"
   ]
  },
  {
   "cell_type": "code",
   "execution_count": 1,
   "id": "2d7ec07d-f571-4753-826c-3e61234a0a66",
   "metadata": {},
   "outputs": [],
   "source": [
    "import sys\n",
    "sys.path.append('../..')"
   ]
  },
  {
   "cell_type": "markdown",
   "id": "4a0e93cd-48f7-482b-87f5-f40f4647800c",
   "metadata": {},
   "source": [
    "Installing matplotlib package"
   ]
  },
  {
   "cell_type": "code",
   "execution_count": 2,
   "id": "8da16ec5-c162-4358-b12f-00bd8fd1666e",
   "metadata": {},
   "outputs": [
    {
     "name": "stdout",
     "output_type": "stream",
     "text": [
      "Requirement already satisfied: matplotlib in /usr/local/lib/python3.9/site-packages (3.5.2)\n",
      "Requirement already satisfied: kiwisolver>=1.0.1 in /usr/local/lib/python3.9/site-packages (from matplotlib) (1.4.2)\n",
      "Requirement already satisfied: cycler>=0.10 in /usr/local/lib/python3.9/site-packages (from matplotlib) (0.11.0)\n",
      "Requirement already satisfied: python-dateutil>=2.7 in /usr/local/lib/python3.9/site-packages (from matplotlib) (2.8.2)\n",
      "Requirement already satisfied: pillow>=6.2.0 in /usr/local/lib/python3.9/site-packages (from matplotlib) (9.1.1)\n",
      "Requirement already satisfied: numpy>=1.17 in /usr/local/lib/python3.9/site-packages (from matplotlib) (1.22.4)\n",
      "Requirement already satisfied: packaging>=20.0 in /usr/local/lib/python3.9/site-packages (from matplotlib) (21.3)\n",
      "Requirement already satisfied: fonttools>=4.22.0 in /usr/local/lib/python3.9/site-packages (from matplotlib) (4.33.3)\n",
      "Requirement already satisfied: pyparsing>=2.2.1 in /usr/local/lib/python3.9/site-packages (from matplotlib) (3.0.9)\n",
      "Requirement already satisfied: six>=1.5 in /usr/local/lib/python3.9/site-packages (from python-dateutil>=2.7->matplotlib) (1.16.0)\n",
      "\u001b[33mWARNING: Running pip as the 'root' user can result in broken permissions and conflicting behaviour with the system package manager. It is recommended to use a virtual environment instead: https://pip.pypa.io/warnings/venv\u001b[0m\u001b[33m\n",
      "\u001b[0m\u001b[33mWARNING: You are using pip version 22.0.4; however, version 22.1.1 is available.\n",
      "You should consider upgrading via the '/usr/local/bin/python -m pip install --upgrade pip' command.\u001b[0m\u001b[33m\n",
      "\u001b[0m"
     ]
    }
   ],
   "source": [
    "!pip install matplotlib"
   ]
  },
  {
   "cell_type": "code",
   "execution_count": 3,
   "id": "1038f71e-e2f9-46d7-88eb-07368c3996e0",
   "metadata": {},
   "outputs": [],
   "source": [
    "import yaml\n",
    "import time\n",
    "import glob\n",
    "from dataclasses import asdict\n",
    "from app.cli.modules.node import get_config_db, get_node_manager\n",
    "from app.cli.modules.role import get_role_manager\n",
    "from app.cli.modules.cluster import get_cluster_config_db, get_cluster_manager\n",
    "from clap.utils import float_time_to_string, path_extend\n",
    "from clap.executor import SSHCommandExecutor, AnsiblePlaybookExecutor\n",
    "\n",
    "import matplotlib.pyplot as plt\n",
    "%matplotlib inline"
   ]
  },
  {
   "cell_type": "code",
   "execution_count": 4,
   "id": "38fc284c-e678-49fc-805b-c55fe7b73264",
   "metadata": {},
   "outputs": [],
   "source": [
    "configuration_db = get_config_db()\n",
    "cluster_config_db = get_cluster_config_db()\n",
    "node_manager = get_node_manager()\n",
    "role_manager = get_role_manager()\n",
    "cluster_manager = get_cluster_manager()\n",
    "# Private's path (usually ~/.clap/private/) will be used for other methods\n",
    "private_path = node_manager.private_path"
   ]
  },
  {
   "cell_type": "markdown",
   "id": "d5059b63-3220-409d-b18f-48a81d45878d",
   "metadata": {},
   "source": [
    "`cluster_config_db` will load all cluster configs at `~/.clap/configs/clusters/` and will store all in the `clusters` member. \n",
    "`clusters` is a dictionary, where the keys are the name of cluster configuration the values are dataclasses of type `ClusterConfig`.\n",
    "- Note: by default, CLAP looks for information at `~/.clap/` directory. However, in case the CLAP_PATH environment variable is defined, CLAP will look for configurations and other information at ${CLAP_PATH}.\n",
    "\n",
    "Let's list all cluster configurations and get the configuration named `npb-cluster`."
   ]
  },
  {
   "cell_type": "code",
   "execution_count": 5,
   "id": "121179fd-b688-4468-880d-a89ac7e7d37c",
   "metadata": {},
   "outputs": [
    {
     "name": "stdout",
     "output_type": "stream",
     "text": [
      "['npb-cluster']\n"
     ]
    }
   ],
   "source": [
    "print(list(cluster_config_db.clusters.keys()))"
   ]
  },
  {
   "cell_type": "code",
   "execution_count": 6,
   "id": "950a8a2d-96cf-497b-abb6-18baf3782de8",
   "metadata": {},
   "outputs": [
    {
     "name": "stdout",
     "output_type": "stream",
     "text": [
      "ClusterConfig(cluster_config_id='npb-cluster', options=None, before_all=[], before=[], after_all=[SetupConfig(roles=[], actions=[RoleActionType(role='npb', action='run', extra={})])], after=[], nodes={'npb-type-t2.medium': NodeConfig(type='type-t2.medium', count=2, min_count=2, setups=[SetupConfig(roles=[RoleAdd(name='npb', extra={'pubkey': '~/clap_config/private/key.pub', 'privkey': '~/clap_config/private/key.pem'})], actions=[])])})\n"
     ]
    }
   ],
   "source": [
    "npb_cluster_config = cluster_config_db.clusters['npb-cluster']\n",
    "print(npb_cluster_config)"
   ]
  },
  {
   "cell_type": "markdown",
   "id": "d02c6d00-6e8e-4cbb-9641-2ab28a112acd",
   "metadata": {},
   "source": [
    "The configuration is a dataclass, so it can be ful converted to a dict, with `asdict` function."
   ]
  },
  {
   "cell_type": "code",
   "execution_count": 7,
   "id": "ad4edac5-6304-43e1-a5d0-b059ae3a668b",
   "metadata": {},
   "outputs": [
    {
     "name": "stdout",
     "output_type": "stream",
     "text": [
      "after: []\n",
      "after_all:\n",
      "-   actions:\n",
      "    -   action: run\n",
      "        extra: {}\n",
      "        role: npb\n",
      "    roles: []\n",
      "before: []\n",
      "before_all: []\n",
      "cluster_config_id: npb-cluster\n",
      "nodes:\n",
      "    npb-type-t2.medium:\n",
      "        count: 2\n",
      "        min_count: 2\n",
      "        setups:\n",
      "        -   actions: []\n",
      "            roles:\n",
      "            -   extra:\n",
      "                    privkey: ~/clap_config/private/key.pem\n",
      "                    pubkey: ~/clap_config/private/key.pub\n",
      "                name: npb\n",
      "        type: type-t2.medium\n",
      "options: null\n",
      "\n"
     ]
    }
   ],
   "source": [
    "npb_cluster_config_dict = asdict(npb_cluster_config)\n",
    "print(yaml.dump(npb_cluster_config_dict, indent=4))"
   ]
  },
  {
   "cell_type": "markdown",
   "id": "dd2fb8bf-d222-4874-b4d4-963d4dd2b1d3",
   "metadata": {},
   "source": [
    "We can start a cluster, based on a cluster configuration, using the `start_cluster`  method from `ClusterManager` class The function will return a cluster id that will be used for other methods."
   ]
  },
  {
   "cell_type": "code",
   "execution_count": 8,
   "id": "2d969752-98c2-4520-8f84-bd668cb25c6d",
   "metadata": {},
   "outputs": [
    {
     "name": "stdout",
     "output_type": "stream",
     "text": [
      "\u001b[1;35m[WARNING]: provided hosts list is empty, only localhost is available. Note that\u001b[0m\n",
      "\u001b[1;35mthe implicit localhost does not match 'all'\u001b[0m\n",
      "\u001b[0;35m[DEPRECATION WARNING]: amazon.aws.ec2 has been deprecated. The ec2 module is \u001b[0m\n",
      "\u001b[0;35mbased upon a deprecated version of the AWS SDKs and is deprecated in favor of \u001b[0m\n",
      "\u001b[0;35mthe ec2_instance module. Please update your tasks. This feature will be removed\u001b[0m\n",
      "\u001b[0;35m from amazon.aws in version 4.0.0. Deprecation warnings can be disabled by \u001b[0m\n",
      "\u001b[0;35msetting deprecation_warnings=False in ansible.cfg.\u001b[0m\n",
      "\n",
      "PLAY [localhost] ***************************************************************\n",
      "\n",
      "TASK [Starting 2 type-t2.medium instances (timeout 600 seconds)] ***************\n",
      "\u001b[0;35mdeprecation_warnings=False in ansible.cfg.\u001b[0m\n",
      "\u001b[0;33mchanged: [localhost]\u001b[0m\n",
      "\n",
      "PLAY RECAP *********************************************************************\n",
      "\u001b[0;33mlocalhost\u001b[0m                  : \u001b[0;32mok=1   \u001b[0m \u001b[0;33mchanged=1   \u001b[0m unreachable=0    failed=0    skipped=0    rescued=0    ignored=0   \n",
      "\u001b[1;35m[WARNING]: provided hosts list is empty, only localhost is available. Note that\u001b[0m\n",
      "\u001b[1;35mthe implicit localhost does not match 'all'\u001b[0m\n",
      "\n",
      "PLAY [localhost] ***************************************************************\n",
      "\n",
      "TASK [Tagging instances] *******************************************************\n",
      "\u001b[0;33mchanged: [localhost] => (item={'id': 'i-060bbe01f974f5940', 'name': 'NormaGrollimund-2e0ea767'})\u001b[0m\n",
      "\u001b[0;33mchanged: [localhost] => (item={'id': 'i-0b65953021fbbfa12', 'name': 'LanaChacon-239dafc5'})\u001b[0m\n",
      "\n",
      "PLAY RECAP *********************************************************************\n",
      "\u001b[0;33mlocalhost\u001b[0m                  : \u001b[0;32mok=1   \u001b[0m \u001b[0;33mchanged=1   \u001b[0m unreachable=0    failed=0    skipped=0    rescued=0    ignored=0   \n"
     ]
    },
    {
     "name": "stderr",
     "output_type": "stream",
     "text": [
      "Error executing command in node 2e0ea767: [Errno None] Unable to connect to port 22 on 54.174.160.149\n",
      "Error executing command in 2e0ea767: [Errno None] Unable to connect to port 22 on 54.174.160.149.\n"
     ]
    },
    {
     "name": "stdout",
     "output_type": "stream",
     "text": [
      "cluster-e1093b4b5bdf413083fac7782c51b61b\n"
     ]
    }
   ],
   "source": [
    "cluster_id = cluster_manager.start_cluster(npb_cluster_config)\n",
    "print(cluster_id)"
   ]
  },
  {
   "cell_type": "markdown",
   "id": "857d4a8a-84c0-4959-b366-f71cc32e8da8",
   "metadata": {},
   "source": [
    "We can get a full cluster information using `get_cluster_by_id` method from `ClusterManager` class. It will return a dataclass of type `ClusterDescriptor` that has all the information of a custer. TO get all clusters in the repository, `get_all_clusters` function returns a list of `ClusterDescriptor`. \n",
    "\n",
    "Let's print the `ClusterDescriptor` from cluster the recently created cluster `cluster-da580f1038254cfa98b203ca109ecb53` in YAML format."
   ]
  },
  {
   "cell_type": "code",
   "execution_count": 9,
   "id": "18c3b106-ab1e-400d-9ffc-6c8ac439bfe8",
   "metadata": {},
   "outputs": [
    {
     "name": "stdout",
     "output_type": "stream",
     "text": [
      "cluster_config:\n",
      "    after: []\n",
      "    after_all:\n",
      "    -   actions:\n",
      "        -   action: run\n",
      "            extra: {}\n",
      "            role: npb\n",
      "        roles: []\n",
      "    before: []\n",
      "    before_all: []\n",
      "    cluster_config_id: npb-cluster\n",
      "    nodes:\n",
      "        npb-type-t2.medium:\n",
      "            count: 2\n",
      "            min_count: 2\n",
      "            setups:\n",
      "            -   actions: []\n",
      "                roles:\n",
      "                -   extra:\n",
      "                        privkey: ~/clap_config/private/key.pem\n",
      "                        pubkey: ~/clap_config/private/key.pub\n",
      "                    name: npb\n",
      "            type: type-t2.medium\n",
      "    options: null\n",
      "cluster_id: cluster-e1093b4b5bdf413083fac7782c51b61b\n",
      "cluster_name: LazyPlasma\n",
      "creation_time: 1653902335.4072776\n",
      "is_setup: false\n",
      "update_time: 1653902402.7319274\n",
      "\n"
     ]
    }
   ],
   "source": [
    "cluster = cluster_manager.get_cluster_by_id(cluster_id)\n",
    "cluster_dict = asdict(cluster)\n",
    "print(yaml.dump(cluster_dict, indent=4))"
   ]
  },
  {
   "cell_type": "markdown",
   "id": "b65dba46-c78f-429a-aeb3-1d0c55828fd7",
   "metadata": {},
   "source": [
    "Given a cluster id, we can get all CLAP nodes that belongs to this cluster, using `get_all_cluster_nodes` method from `ClusterManager` class. It wil return a list of node ids, which can be used with several CLAP modules, such as `NodeManager` and `RoleManager` classes.."
   ]
  },
  {
   "cell_type": "code",
   "execution_count": 10,
   "id": "5f56de15-a275-457b-abc5-8d878be1163b",
   "metadata": {},
   "outputs": [
    {
     "name": "stdout",
     "output_type": "stream",
     "text": [
      "['239dafc58b354a5194a6ac039221517a', '2e0ea767e03e49158748794a556622c0']\n"
     ]
    }
   ],
   "source": [
    "cluster_nodes = cluster_manager.get_all_cluster_nodes(cluster_id)\n",
    "print(cluster_nodes)"
   ]
  },
  {
   "cell_type": "markdown",
   "id": "00544087-14b6-46d7-a314-9efb442021c4",
   "metadata": {},
   "source": [
    "Using the `get_cluster_nodes_types` method from `ClusterManager` class will result in a dictionary where the key are the cluster node types (e.g., `npb-type-b`) and the values are a list of node ids of nodes from that type."
   ]
  },
  {
   "cell_type": "code",
   "execution_count": 11,
   "id": "62fc45ed-e7ff-4345-a53f-1fb5a6def492",
   "metadata": {},
   "outputs": [
    {
     "name": "stdout",
     "output_type": "stream",
     "text": [
      "{'npb-type-t2.medium': ['239dafc58b354a5194a6ac039221517a', '2e0ea767e03e49158748794a556622c0']}\n"
     ]
    }
   ],
   "source": [
    "cluster_nodes_with_type = cluster_manager.get_cluster_nodes_types(cluster_id)\n",
    "print(cluster_nodes_with_type)"
   ]
  },
  {
   "cell_type": "markdown",
   "id": "bd4b439b-3c96-43b1-82ea-1663c0890b29",
   "metadata": {},
   "source": [
    "## Executing Benchmark with 2 nodes \n",
    "\n",
    "Until here, the cluster was only started. We may setup the cluster for all nodes, using the `setup_cluster` method. This will run all setups at all nodes in the cluster. For this clustr configuration, the setup will install packages and the application at nodes and run the application until the end. At end of setup, the application is terminated (see `examples/cli/1. Creating a cluster.ipynb` for more details)."
   ]
  },
  {
   "cell_type": "code",
   "execution_count": 12,
   "id": "05f0faa6-421d-4af2-bc1e-de5d0a5ea0b0",
   "metadata": {},
   "outputs": [
    {
     "name": "stdout",
     "output_type": "stream",
     "text": [
      "\n",
      "PLAY [all] *********************************************************************\n",
      "\n",
      "TASK [Gathering Facts] *********************************************************\n",
      "\u001b[0;32mok: [239dafc58b354a5194a6ac039221517a]\u001b[0m\n",
      "\u001b[0;32mok: [2e0ea767e03e49158748794a556622c0]\u001b[0m\n",
      "\n",
      "TASK [Set some variables] ******************************************************\n",
      "\u001b[0;32mok: [239dafc58b354a5194a6ac039221517a]\u001b[0m\n",
      "\u001b[0;32mok: [2e0ea767e03e49158748794a556622c0]\u001b[0m\n",
      "\n",
      "TASK [Changing hostname] *******************************************************\n",
      "\u001b[0;33mchanged: [239dafc58b354a5194a6ac039221517a]\u001b[0m\n",
      "\u001b[0;33mchanged: [2e0ea767e03e49158748794a556622c0]\u001b[0m\n",
      "\n",
      "TASK [Perform necessary package installation for NPB] **************************\n",
      "\u001b[0;33mchanged: [2e0ea767e03e49158748794a556622c0]\u001b[0m\n",
      "\u001b[0;33mchanged: [239dafc58b354a5194a6ac039221517a]\u001b[0m\n",
      "\n",
      "TASK [Get NPB (wget)] **********************************************************\n",
      "\u001b[0;33mchanged: [239dafc58b354a5194a6ac039221517a]\u001b[0m\n",
      "\u001b[0;33mchanged: [2e0ea767e03e49158748794a556622c0]\u001b[0m\n",
      "\n",
      "TASK [Untar NPB file] **********************************************************\n",
      "\u001b[0;33mchanged: [2e0ea767e03e49158748794a556622c0]\u001b[0m\n",
      "\u001b[0;33mchanged: [239dafc58b354a5194a6ac039221517a]\u001b[0m\n",
      "\n",
      "TASK [Defining make template] **************************************************\n",
      "\u001b[0;33mchanged: [239dafc58b354a5194a6ac039221517a]\u001b[0m\n",
      "\u001b[0;33mchanged: [2e0ea767e03e49158748794a556622c0]\u001b[0m\n",
      "\n",
      "TASK [Compiling some binaries] *************************************************\n",
      "\u001b[0;33mchanged: [239dafc58b354a5194a6ac039221517a]\u001b[0m\n",
      "\u001b[0;33mchanged: [2e0ea767e03e49158748794a556622c0]\u001b[0m\n",
      "\n",
      "TASK [Copy binary file to user's home directory] *******************************\n",
      "\u001b[0;33mchanged: [239dafc58b354a5194a6ac039221517a]\u001b[0m\n",
      "\u001b[0;33mchanged: [2e0ea767e03e49158748794a556622c0]\u001b[0m\n",
      "\n",
      "TASK [Define binary variable] **************************************************\n",
      "\u001b[0;32mok: [239dafc58b354a5194a6ac039221517a]\u001b[0m\n",
      "\u001b[0;32mok: [2e0ea767e03e49158748794a556622c0]\u001b[0m\n",
      "\n",
      "TASK [Copy a public key to hosts] **********************************************\n",
      "\u001b[0;33mchanged: [239dafc58b354a5194a6ac039221517a]\u001b[0m\n",
      "\u001b[0;33mchanged: [2e0ea767e03e49158748794a556622c0]\u001b[0m\n",
      "\n",
      "TASK [Copy a private key to hosts] *********************************************\n",
      "\u001b[0;33mchanged: [2e0ea767e03e49158748794a556622c0]\u001b[0m\n",
      "\u001b[0;33mchanged: [239dafc58b354a5194a6ac039221517a]\u001b[0m\n",
      "\n",
      "TASK [Put key in authorized keys] **********************************************\n",
      "\u001b[0;33mchanged: [2e0ea767e03e49158748794a556622c0]\u001b[0m\n",
      "\u001b[0;33mchanged: [239dafc58b354a5194a6ac039221517a]\u001b[0m\n",
      "\n",
      "TASK [Remove strict host checking] *********************************************\n",
      "\u001b[0;33mchanged: [2e0ea767e03e49158748794a556622c0]\u001b[0m\n",
      "\u001b[0;33mchanged: [239dafc58b354a5194a6ac039221517a]\u001b[0m\n",
      "\n",
      "PLAY RECAP *********************************************************************\n",
      "\u001b[0;33m239dafc58b354a5194a6ac039221517a\u001b[0m : \u001b[0;32mok=14  \u001b[0m \u001b[0;33mchanged=11  \u001b[0m unreachable=0    failed=0    skipped=0    rescued=0    ignored=0   \n",
      "\u001b[0;33m2e0ea767e03e49158748794a556622c0\u001b[0m : \u001b[0;32mok=14  \u001b[0m \u001b[0;33mchanged=11  \u001b[0m unreachable=0    failed=0    skipped=0    rescued=0    ignored=0   \n",
      "\n",
      "PLAY [all] *********************************************************************\n",
      "\n",
      "TASK [Gathering Facts] *********************************************************\n",
      "\u001b[0;32mok: [239dafc58b354a5194a6ac039221517a]\u001b[0m\n",
      "\u001b[0;32mok: [2e0ea767e03e49158748794a556622c0]\u001b[0m\n",
      "\n",
      "TASK [Remove hostfile] *********************************************************\n",
      "\u001b[0;32mok: [2e0ea767e03e49158748794a556622c0]\u001b[0m\n",
      "\u001b[0;32mok: [239dafc58b354a5194a6ac039221517a]\u001b[0m\n",
      "\n",
      "TASK [Generating hostfile] *****************************************************\n",
      "\u001b[0;36mskipping: [2e0ea767e03e49158748794a556622c0] => (item=239dafc58b354a5194a6ac039221517a) \u001b[0m\n",
      "\u001b[0;36mskipping: [2e0ea767e03e49158748794a556622c0] => (item=2e0ea767e03e49158748794a556622c0) \u001b[0m\n",
      "\u001b[0;33mchanged: [239dafc58b354a5194a6ac039221517a] => (item=239dafc58b354a5194a6ac039221517a)\u001b[0m\n",
      "\u001b[0;33mchanged: [239dafc58b354a5194a6ac039221517a] => (item=2e0ea767e03e49158748794a556622c0)\u001b[0m\n",
      "\n",
      "TASK [Running MPI] *************************************************************\n",
      "\u001b[0;36mskipping: [2e0ea767e03e49158748794a556622c0]\u001b[0m\n",
      "\u001b[0;33mchanged: [239dafc58b354a5194a6ac039221517a]\u001b[0m\n",
      "\n",
      "PLAY RECAP *********************************************************************\n",
      "\u001b[0;33m239dafc58b354a5194a6ac039221517a\u001b[0m : \u001b[0;32mok=4   \u001b[0m \u001b[0;33mchanged=2   \u001b[0m unreachable=0    failed=0    skipped=0    rescued=0    ignored=0   \n",
      "\u001b[0;32m2e0ea767e03e49158748794a556622c0\u001b[0m : \u001b[0;32mok=2   \u001b[0m changed=0    unreachable=0    failed=0    \u001b[0;36mskipped=2   \u001b[0m rescued=0    ignored=0   \n"
     ]
    }
   ],
   "source": [
    "cluster_manager.setup_cluster(cluster_id)"
   ]
  },
  {
   "cell_type": "markdown",
   "id": "7313a37a-fbaa-45e5-a287-df4b4f34e74c",
   "metadata": {},
   "source": [
    "We will get the results using the `result` action from `npb` role. An extra variable called `output` is required (which is the directory to save the result files) and can be passed using the `perform_action` `extra_args` parameter."
   ]
  },
  {
   "cell_type": "code",
   "execution_count": 13,
   "id": "d4856f4a-36fa-42d9-a534-60bba7ef1d92",
   "metadata": {},
   "outputs": [
    {
     "name": "stdout",
     "output_type": "stream",
     "text": [
      "\n",
      "PLAY [all] *********************************************************************\n",
      "\n",
      "TASK [Gathering Facts] *********************************************************\n",
      "\u001b[0;32mok: [2e0ea767e03e49158748794a556622c0]\u001b[0m\n",
      "\u001b[0;32mok: [239dafc58b354a5194a6ac039221517a]\u001b[0m\n",
      "\n",
      "TASK [Find files to copy] ******************************************************\n",
      "\u001b[0;32mok: [2e0ea767e03e49158748794a556622c0]\u001b[0m\n",
      "\u001b[0;32mok: [239dafc58b354a5194a6ac039221517a]\u001b[0m\n",
      "\n",
      "TASK [Copy output files to ~/experiment-results-1653902627.2235298/] ***********\n",
      "\u001b[0;33mchanged: [239dafc58b354a5194a6ac039221517a] => (item={'path': '/home/ubuntu/239dafc58b354a5194a6ac039221517a.output', 'mode': '0664', 'isdir': False, 'ischr': False, 'isblk': False, 'isreg': True, 'isfifo': False, 'islnk': False, 'issock': False, 'uid': 1000, 'gid': 1000, 'size': 2407, 'inode': 263940, 'dev': 51713, 'nlink': 1, 'atime': 1653902598.9461765, 'mtime': 1653902626.3293598, 'ctime': 1653902626.3293598, 'gr_name': 'ubuntu', 'pw_name': 'ubuntu', 'wusr': True, 'rusr': True, 'xusr': False, 'wgrp': True, 'rgrp': True, 'xgrp': False, 'woth': False, 'roth': True, 'xoth': False, 'isuid': False, 'isgid': False})\u001b[0m\n",
      "\u001b[0;33mchanged: [239dafc58b354a5194a6ac039221517a] => (item={'path': '/home/ubuntu/hostfile', 'mode': '0664', 'isdir': False, 'ischr': False, 'isblk': False, 'isreg': True, 'isfifo': False, 'islnk': False, 'issock': False, 'uid': 1000, 'gid': 1000, 'size': 127, 'inode': 263941, 'dev': 51713, 'nlink': 1, 'atime': 1653902598.9861746, 'mtime': 1653902595.1663785, 'ctime': 1653902595.1663785, 'gr_name': 'ubuntu', 'pw_name': 'ubuntu', 'wusr': True, 'rusr': True, 'xusr': False, 'wgrp': True, 'rgrp': True, 'xgrp': False, 'woth': False, 'roth': True, 'xoth': False, 'isuid': False, 'isgid': False})\u001b[0m\n",
      "\n",
      "PLAY RECAP *********************************************************************\n",
      "\u001b[0;33m239dafc58b354a5194a6ac039221517a\u001b[0m : \u001b[0;32mok=3   \u001b[0m \u001b[0;33mchanged=1   \u001b[0m unreachable=0    failed=0    skipped=0    rescued=0    ignored=0   \n",
      "\u001b[0;32m2e0ea767e03e49158748794a556622c0\u001b[0m : \u001b[0;32mok=2   \u001b[0m changed=0    unreachable=0    failed=0    \u001b[0;36mskipped=1   \u001b[0m rescued=0    ignored=0   \n",
      "Result executed? True\n",
      "Return code 0\n"
     ]
    }
   ],
   "source": [
    "output_dir = f'~/experiment-results-{time.time()}/' # dont forget the last slash (/) !\n",
    "role_name = 'npb'\n",
    "action = 'result'\n",
    "cluster_nodes = cluster_manager.get_all_cluster_nodes(cluster_id)\n",
    "\n",
    "extras = {\n",
    "    'output': output_dir\n",
    "}\n",
    "\n",
    "playbook_result = role_manager.perform_action(role_name, action, cluster_nodes, extra_args=extras)\n",
    "print(f'Result executed? {playbook_result.ok}')\n",
    "print(f'Return code {playbook_result.ret_code}')"
   ]
  },
  {
   "cell_type": "markdown",
   "id": "18fc8aaf-0f1c-4216-8aa1-4726d2eeebef",
   "metadata": {},
   "source": [
    "Let's see the files we've fetch...."
   ]
  },
  {
   "cell_type": "code",
   "execution_count": 14,
   "id": "9bace1b8-ef43-49b1-943e-4a8673821601",
   "metadata": {},
   "outputs": [
    {
     "name": "stdout",
     "output_type": "stream",
     "text": [
      "- /home/lopani/tmp/eborin/mo833-atividade9/experiment-results-1653902627.2235298/239dafc58b354a5194a6ac039221517a.output\n",
      "- /home/lopani/tmp/eborin/mo833-atividade9/experiment-results-1653902627.2235298/hostfile\n",
      "\n"
     ]
    }
   ],
   "source": [
    "result_files = glob.glob(path_extend(output_dir, '*'))\n",
    "print(yaml.dump(result_files))"
   ]
  },
  {
   "cell_type": "markdown",
   "id": "dcd5364d-0395-419a-8452-6b2d143daec3",
   "metadata": {},
   "source": [
    "And parse them..."
   ]
  },
  {
   "cell_type": "code",
   "execution_count": 15,
   "id": "2b2fcdeb-427c-4a3c-b00a-e07e9889aea9",
   "metadata": {},
   "outputs": [
    {
     "name": "stdout",
     "output_type": "stream",
     "text": [
      "Time to execute with 4 processes: 19.56 seconds\n"
     ]
    }
   ],
   "source": [
    "per_proc_times = dict()\n",
    "time_to_exec = None\n",
    "number_processes = None\n",
    "\n",
    "with open(result_files[0], 'r') as f:\n",
    "    for line in f:\n",
    "        if 'Time in seconds' in line:\n",
    "            time_to_exec = float(line.split('Time in seconds =')[1].strip())\n",
    "        if 'Total processes' in line:\n",
    "            number_processes = int(line.split('Total processes =')[1].strip())\n",
    "\n",
    "per_proc_times[number_processes] = time_to_exec\n",
    "print(f\"Time to execute with {number_processes} processes: {time_to_exec} seconds\")"
   ]
  },
  {
   "cell_type": "markdown",
   "id": "34979623-b869-4677-9c56-6a2030d953ab",
   "metadata": {},
   "source": [
    "## Executing Benchmark with 4 nodes \n",
    "\n",
    "We can grow the cluster size using the `grow` method from `ClusterManager` class. You must pass the cluster id, the type of the cluster node and the quantity of nodes that must be started as parameter. It will return a list of node ids for the freshly created nodes."
   ]
  },
  {
   "cell_type": "code",
   "execution_count": 17,
   "id": "1e7fecbb-b4f5-4932-8fb6-994520929e39",
   "metadata": {},
   "outputs": [
    {
     "name": "stdout",
     "output_type": "stream",
     "text": [
      "\u001b[1;35m[WARNING]: provided hosts list is empty, only localhost is available. Note that\u001b[0m\n",
      "\u001b[1;35mthe implicit localhost does not match 'all'\u001b[0m\n",
      "\u001b[0;35m[DEPRECATION WARNING]: amazon.aws.ec2 has been deprecated. The ec2 module is \u001b[0m\n",
      "\u001b[0;35mbased upon a deprecated version of the AWS SDKs and is deprecated in favor of \u001b[0m\n",
      "\u001b[0;35mthe ec2_instance module. Please update your tasks. This feature will be removed\u001b[0m\n",
      "\u001b[0;35m from amazon.aws in version 4.0.0. Deprecation warnings can be disabled by \u001b[0m\n",
      "\u001b[0;35msetting deprecation_warnings=False in ansible.cfg.\u001b[0m\n",
      "\n",
      "PLAY [localhost] ***************************************************************\n",
      "\n",
      "TASK [Starting 2 type-t2.medium instances (timeout 600 seconds)] ***************\n",
      "\u001b[0;35mdeprecation_warnings=False in ansible.cfg.\u001b[0m\n",
      "\u001b[0;33mchanged: [localhost]\u001b[0m\n",
      "\n",
      "PLAY RECAP *********************************************************************\n",
      "\u001b[0;33mlocalhost\u001b[0m                  : \u001b[0;32mok=1   \u001b[0m \u001b[0;33mchanged=1   \u001b[0m unreachable=0    failed=0    skipped=0    rescued=0    ignored=0   \n",
      "\u001b[1;35m[WARNING]: provided hosts list is empty, only localhost is available. Note that\u001b[0m\n",
      "\u001b[1;35mthe implicit localhost does not match 'all'\u001b[0m\n",
      "\n",
      "PLAY [localhost] ***************************************************************\n",
      "\n",
      "TASK [Tagging instances] *******************************************************\n",
      "\u001b[0;33mchanged: [localhost] => (item={'id': 'i-062439f86f01b81db', 'name': 'KennethWillimas-a0fbfd46'})\u001b[0m\n",
      "\u001b[0;33mchanged: [localhost] => (item={'id': 'i-085a82cd296b9f50b', 'name': 'FredrickParis-3198f74f'})\u001b[0m\n",
      "\n",
      "PLAY RECAP *********************************************************************\n",
      "\u001b[0;33mlocalhost\u001b[0m                  : \u001b[0;32mok=1   \u001b[0m \u001b[0;33mchanged=1   \u001b[0m unreachable=0    failed=0    skipped=0    rescued=0    ignored=0   \n"
     ]
    },
    {
     "name": "stderr",
     "output_type": "stream",
     "text": [
      "Error executing command in node a0fbfd46: [Errno None] Unable to connect to port 22 on 54.211.21.76\n",
      "Error executing command in node 3198f74f: [Errno None] Unable to connect to port 22 on 54.209.178.235\n",
      "Error executing command in a0fbfd46: [Errno None] Unable to connect to port 22 on 54.211.21.76.\n",
      "Error executing command in 3198f74f: [Errno None] Unable to connect to port 22 on 54.209.178.235.\n"
     ]
    },
    {
     "name": "stdout",
     "output_type": "stream",
     "text": [
      "New nodes: ['a0fbfd46e619451f9cf82d3b5f627f48', '3198f74f775d4b2c907e820141543b9f']\n"
     ]
    }
   ],
   "source": [
    "node_type = 'npb-type-t2.medium'\n",
    "new_node_ids = cluster_manager.grow(cluster_id, node_type, count=2, min_count=2)\n",
    "print(f\"New nodes: {new_node_ids}\")"
   ]
  },
  {
   "cell_type": "code",
   "execution_count": 18,
   "id": "05995220-563f-44b9-9341-42a6bafb35be",
   "metadata": {},
   "outputs": [
    {
     "name": "stdout",
     "output_type": "stream",
     "text": [
      "['239dafc58b354a5194a6ac039221517a', '2e0ea767e03e49158748794a556622c0', 'a0fbfd46e619451f9cf82d3b5f627f48', '3198f74f775d4b2c907e820141543b9f']\n"
     ]
    }
   ],
   "source": [
    "cluster_nodes = cluster_manager.get_all_cluster_nodes(cluster_id)\n",
    "print(cluster_nodes)"
   ]
  },
  {
   "cell_type": "code",
   "execution_count": 19,
   "id": "0d1fc562-d336-4805-a005-7a07da85d642",
   "metadata": {},
   "outputs": [
    {
     "name": "stdout",
     "output_type": "stream",
     "text": [
      "npb-type-t2.medium:\n",
      "- 3198f74f775d4b2c907e820141543b9f\n",
      "- 239dafc58b354a5194a6ac039221517a\n",
      "- 2e0ea767e03e49158748794a556622c0\n",
      "- a0fbfd46e619451f9cf82d3b5f627f48\n",
      "\n"
     ]
    }
   ],
   "source": [
    "cluster_nodes_with_type = cluster_manager.get_cluster_nodes_types(cluster_id)\n",
    "print(yaml.dump(cluster_nodes_with_type))"
   ]
  },
  {
   "cell_type": "markdown",
   "id": "4564b2b8-487e-4f66-9711-d3ac71931bd4",
   "metadata": {},
   "source": [
    "When setting up a cluster that has grown you may wish to pass the nodes that was just added, to avoid some setups to be executed in other nodes from cluster. \n",
    "\n",
    "Note: setups from `before_all` and `after_all` phases are executed at all cluster's nodes. "
   ]
  },
  {
   "cell_type": "code",
   "execution_count": 20,
   "id": "9a34a84a-72da-4eee-bdc6-f944afaa0dc3",
   "metadata": {},
   "outputs": [
    {
     "name": "stdout",
     "output_type": "stream",
     "text": [
      "\n",
      "PLAY [all] *********************************************************************\n",
      "\n",
      "TASK [Gathering Facts] *********************************************************\n",
      "\u001b[0;32mok: [3198f74f775d4b2c907e820141543b9f]\u001b[0m\n",
      "\u001b[0;32mok: [a0fbfd46e619451f9cf82d3b5f627f48]\u001b[0m\n",
      "\n",
      "TASK [Set some variables] ******************************************************\n",
      "\u001b[0;32mok: [a0fbfd46e619451f9cf82d3b5f627f48]\u001b[0m\n",
      "\u001b[0;32mok: [3198f74f775d4b2c907e820141543b9f]\u001b[0m\n",
      "\n",
      "TASK [Changing hostname] *******************************************************\n",
      "\u001b[0;33mchanged: [a0fbfd46e619451f9cf82d3b5f627f48]\u001b[0m\n",
      "\u001b[0;33mchanged: [3198f74f775d4b2c907e820141543b9f]\u001b[0m\n",
      "\n",
      "TASK [Perform necessary package installation for NPB] **************************\n",
      "\u001b[0;33mchanged: [3198f74f775d4b2c907e820141543b9f]\u001b[0m\n",
      "\u001b[0;33mchanged: [a0fbfd46e619451f9cf82d3b5f627f48]\u001b[0m\n",
      "\n",
      "TASK [Get NPB (wget)] **********************************************************\n",
      "\u001b[0;33mchanged: [3198f74f775d4b2c907e820141543b9f]\u001b[0m\n",
      "\u001b[0;33mchanged: [a0fbfd46e619451f9cf82d3b5f627f48]\u001b[0m\n",
      "\n",
      "TASK [Untar NPB file] **********************************************************\n",
      "\u001b[0;33mchanged: [3198f74f775d4b2c907e820141543b9f]\u001b[0m\n",
      "\u001b[0;33mchanged: [a0fbfd46e619451f9cf82d3b5f627f48]\u001b[0m\n",
      "\n",
      "TASK [Defining make template] **************************************************\n",
      "\u001b[0;33mchanged: [3198f74f775d4b2c907e820141543b9f]\u001b[0m\n",
      "\u001b[0;33mchanged: [a0fbfd46e619451f9cf82d3b5f627f48]\u001b[0m\n",
      "\n",
      "TASK [Compiling some binaries] *************************************************\n",
      "\u001b[0;33mchanged: [a0fbfd46e619451f9cf82d3b5f627f48]\u001b[0m\n",
      "\u001b[0;33mchanged: [3198f74f775d4b2c907e820141543b9f]\u001b[0m\n",
      "\n",
      "TASK [Copy binary file to user's home directory] *******************************\n",
      "\u001b[0;33mchanged: [3198f74f775d4b2c907e820141543b9f]\u001b[0m\n",
      "\u001b[0;33mchanged: [a0fbfd46e619451f9cf82d3b5f627f48]\u001b[0m\n",
      "\n",
      "TASK [Define binary variable] **************************************************\n",
      "\u001b[0;32mok: [a0fbfd46e619451f9cf82d3b5f627f48]\u001b[0m\n",
      "\u001b[0;32mok: [3198f74f775d4b2c907e820141543b9f]\u001b[0m\n",
      "\n",
      "TASK [Copy a public key to hosts] **********************************************\n",
      "\u001b[0;33mchanged: [a0fbfd46e619451f9cf82d3b5f627f48]\u001b[0m\n",
      "\u001b[0;33mchanged: [3198f74f775d4b2c907e820141543b9f]\u001b[0m\n",
      "\n",
      "TASK [Copy a private key to hosts] *********************************************\n",
      "\u001b[0;33mchanged: [a0fbfd46e619451f9cf82d3b5f627f48]\u001b[0m\n",
      "\u001b[0;33mchanged: [3198f74f775d4b2c907e820141543b9f]\u001b[0m\n",
      "\n",
      "TASK [Put key in authorized keys] **********************************************\n",
      "\u001b[0;33mchanged: [3198f74f775d4b2c907e820141543b9f]\u001b[0m\n",
      "\u001b[0;33mchanged: [a0fbfd46e619451f9cf82d3b5f627f48]\u001b[0m\n",
      "\n",
      "TASK [Remove strict host checking] *********************************************\n",
      "\u001b[0;33mchanged: [3198f74f775d4b2c907e820141543b9f]\u001b[0m\n",
      "\u001b[0;33mchanged: [a0fbfd46e619451f9cf82d3b5f627f48]\u001b[0m\n",
      "\n",
      "PLAY RECAP *********************************************************************\n",
      "\u001b[0;33m3198f74f775d4b2c907e820141543b9f\u001b[0m : \u001b[0;32mok=14  \u001b[0m \u001b[0;33mchanged=11  \u001b[0m unreachable=0    failed=0    skipped=0    rescued=0    ignored=0   \n",
      "\u001b[0;33ma0fbfd46e619451f9cf82d3b5f627f48\u001b[0m : \u001b[0;32mok=14  \u001b[0m \u001b[0;33mchanged=11  \u001b[0m unreachable=0    failed=0    skipped=0    rescued=0    ignored=0   \n",
      "\n",
      "PLAY [all] *********************************************************************\n",
      "\n",
      "TASK [Gathering Facts] *********************************************************\n",
      "\u001b[0;32mok: [a0fbfd46e619451f9cf82d3b5f627f48]\u001b[0m\n",
      "\u001b[0;32mok: [3198f74f775d4b2c907e820141543b9f]\u001b[0m\n",
      "\u001b[0;32mok: [2e0ea767e03e49158748794a556622c0]\u001b[0m\n",
      "\u001b[0;32mok: [239dafc58b354a5194a6ac039221517a]\u001b[0m\n",
      "\n",
      "TASK [Remove hostfile] *********************************************************\n",
      "\u001b[0;32mok: [3198f74f775d4b2c907e820141543b9f]\u001b[0m\n",
      "\u001b[0;33mchanged: [239dafc58b354a5194a6ac039221517a]\u001b[0m\n",
      "\u001b[0;32mok: [2e0ea767e03e49158748794a556622c0]\u001b[0m\n",
      "\u001b[0;32mok: [a0fbfd46e619451f9cf82d3b5f627f48]\u001b[0m\n",
      "\n",
      "TASK [Generating hostfile] *****************************************************\n",
      "\u001b[0;36mskipping: [2e0ea767e03e49158748794a556622c0] => (item=239dafc58b354a5194a6ac039221517a) \u001b[0m\n",
      "\u001b[0;36mskipping: [2e0ea767e03e49158748794a556622c0] => (item=2e0ea767e03e49158748794a556622c0) \u001b[0m\n",
      "\u001b[0;36mskipping: [2e0ea767e03e49158748794a556622c0] => (item=a0fbfd46e619451f9cf82d3b5f627f48) \u001b[0m\n",
      "\u001b[0;36mskipping: [2e0ea767e03e49158748794a556622c0] => (item=3198f74f775d4b2c907e820141543b9f) \u001b[0m\n",
      "\u001b[0;36mskipping: [a0fbfd46e619451f9cf82d3b5f627f48] => (item=239dafc58b354a5194a6ac039221517a) \u001b[0m\n",
      "\u001b[0;36mskipping: [a0fbfd46e619451f9cf82d3b5f627f48] => (item=2e0ea767e03e49158748794a556622c0) \u001b[0m\n",
      "\u001b[0;36mskipping: [a0fbfd46e619451f9cf82d3b5f627f48] => (item=a0fbfd46e619451f9cf82d3b5f627f48) \u001b[0m\n",
      "\u001b[0;36mskipping: [a0fbfd46e619451f9cf82d3b5f627f48] => (item=3198f74f775d4b2c907e820141543b9f) \u001b[0m\n",
      "\u001b[0;36mskipping: [3198f74f775d4b2c907e820141543b9f] => (item=239dafc58b354a5194a6ac039221517a) \u001b[0m\n",
      "\u001b[0;36mskipping: [3198f74f775d4b2c907e820141543b9f] => (item=2e0ea767e03e49158748794a556622c0) \u001b[0m\n",
      "\u001b[0;36mskipping: [3198f74f775d4b2c907e820141543b9f] => (item=a0fbfd46e619451f9cf82d3b5f627f48) \u001b[0m\n",
      "\u001b[0;36mskipping: [3198f74f775d4b2c907e820141543b9f] => (item=3198f74f775d4b2c907e820141543b9f) \u001b[0m\n",
      "\u001b[0;33mchanged: [239dafc58b354a5194a6ac039221517a] => (item=239dafc58b354a5194a6ac039221517a)\u001b[0m\n",
      "\u001b[0;33mchanged: [239dafc58b354a5194a6ac039221517a] => (item=2e0ea767e03e49158748794a556622c0)\u001b[0m\n",
      "\u001b[0;33mchanged: [239dafc58b354a5194a6ac039221517a] => (item=a0fbfd46e619451f9cf82d3b5f627f48)\u001b[0m\n",
      "\u001b[0;33mchanged: [239dafc58b354a5194a6ac039221517a] => (item=3198f74f775d4b2c907e820141543b9f)\u001b[0m\n",
      "\n",
      "TASK [Running MPI] *************************************************************\n",
      "\u001b[0;36mskipping: [2e0ea767e03e49158748794a556622c0]\u001b[0m\n",
      "\u001b[0;36mskipping: [a0fbfd46e619451f9cf82d3b5f627f48]\u001b[0m\n",
      "\u001b[0;36mskipping: [3198f74f775d4b2c907e820141543b9f]\u001b[0m\n",
      "\u001b[0;33mchanged: [239dafc58b354a5194a6ac039221517a]\u001b[0m\n",
      "\n",
      "PLAY RECAP *********************************************************************\n",
      "\u001b[0;33m239dafc58b354a5194a6ac039221517a\u001b[0m : \u001b[0;32mok=4   \u001b[0m \u001b[0;33mchanged=3   \u001b[0m unreachable=0    failed=0    skipped=0    rescued=0    ignored=0   \n",
      "\u001b[0;32m2e0ea767e03e49158748794a556622c0\u001b[0m : \u001b[0;32mok=2   \u001b[0m changed=0    unreachable=0    failed=0    \u001b[0;36mskipped=2   \u001b[0m rescued=0    ignored=0   \n",
      "\u001b[0;32m3198f74f775d4b2c907e820141543b9f\u001b[0m : \u001b[0;32mok=2   \u001b[0m changed=0    unreachable=0    failed=0    \u001b[0;36mskipped=2   \u001b[0m rescued=0    ignored=0   \n",
      "\u001b[0;32ma0fbfd46e619451f9cf82d3b5f627f48\u001b[0m : \u001b[0;32mok=2   \u001b[0m changed=0    unreachable=0    failed=0    \u001b[0;36mskipped=2   \u001b[0m rescued=0    ignored=0   \n"
     ]
    }
   ],
   "source": [
    "new_nodes_types = {\n",
    "    node_type: new_node_ids\n",
    "}\n",
    "cluster_manager.setup_cluster(cluster_id, nodes_being_added=new_nodes_types)"
   ]
  },
  {
   "cell_type": "markdown",
   "id": "3094f424-d739-45fe-aa6b-4b500b106873",
   "metadata": {},
   "source": [
    "Let's fetch the results.."
   ]
  },
  {
   "cell_type": "code",
   "execution_count": 21,
   "id": "83037b1c-aa51-49a5-8dca-a993b335d64f",
   "metadata": {},
   "outputs": [
    {
     "name": "stdout",
     "output_type": "stream",
     "text": [
      "\n",
      "PLAY [all] *********************************************************************\n",
      "\n",
      "TASK [Gathering Facts] *********************************************************\n",
      "\u001b[0;32mok: [2e0ea767e03e49158748794a556622c0]\u001b[0m\n",
      "\u001b[0;32mok: [a0fbfd46e619451f9cf82d3b5f627f48]\u001b[0m\n",
      "\u001b[0;32mok: [3198f74f775d4b2c907e820141543b9f]\u001b[0m\n",
      "\u001b[0;32mok: [239dafc58b354a5194a6ac039221517a]\u001b[0m\n",
      "\n",
      "TASK [Find files to copy] ******************************************************\n",
      "\u001b[0;32mok: [a0fbfd46e619451f9cf82d3b5f627f48]\u001b[0m\n",
      "\u001b[0;32mok: [2e0ea767e03e49158748794a556622c0]\u001b[0m\n",
      "\u001b[0;32mok: [3198f74f775d4b2c907e820141543b9f]\u001b[0m\n",
      "\u001b[0;32mok: [239dafc58b354a5194a6ac039221517a]\u001b[0m\n",
      "\n",
      "TASK [Copy output files to ~/experiment-results-1653903592.8731565/] ***********\n",
      "\u001b[0;33mchanged: [239dafc58b354a5194a6ac039221517a] => (item={'path': '/home/ubuntu/239dafc58b354a5194a6ac039221517a.output', 'mode': '0664', 'isdir': False, 'ischr': False, 'isblk': False, 'isreg': True, 'isfifo': False, 'islnk': False, 'issock': False, 'uid': 1000, 'gid': 1000, 'size': 2878, 'inode': 263940, 'dev': 51713, 'nlink': 1, 'atime': 1653902641.8492923, 'mtime': 1653903591.9768684, 'ctime': 1653903591.9768684, 'gr_name': 'ubuntu', 'pw_name': 'ubuntu', 'wusr': True, 'rusr': True, 'xusr': False, 'wgrp': True, 'rgrp': True, 'xgrp': False, 'woth': False, 'roth': True, 'xoth': False, 'isuid': False, 'isgid': False})\u001b[0m\n",
      "\u001b[0;33mchanged: [239dafc58b354a5194a6ac039221517a] => (item={'path': '/home/ubuntu/hostfile', 'mode': '0664', 'isdir': False, 'ischr': False, 'isblk': False, 'isreg': True, 'isfifo': False, 'islnk': False, 'issock': False, 'uid': 1000, 'gid': 1000, 'size': 253, 'inode': 263942, 'dev': 51713, 'nlink': 1, 'atime': 1653903570.9810474, 'mtime': 1653903566.9490895, 'ctime': 1653903566.9490895, 'gr_name': 'ubuntu', 'pw_name': 'ubuntu', 'wusr': True, 'rusr': True, 'xusr': False, 'wgrp': True, 'rgrp': True, 'xgrp': False, 'woth': False, 'roth': True, 'xoth': False, 'isuid': False, 'isgid': False})\u001b[0m\n",
      "\n",
      "PLAY RECAP *********************************************************************\n",
      "\u001b[0;33m239dafc58b354a5194a6ac039221517a\u001b[0m : \u001b[0;32mok=3   \u001b[0m \u001b[0;33mchanged=1   \u001b[0m unreachable=0    failed=0    skipped=0    rescued=0    ignored=0   \n",
      "\u001b[0;32m2e0ea767e03e49158748794a556622c0\u001b[0m : \u001b[0;32mok=2   \u001b[0m changed=0    unreachable=0    failed=0    \u001b[0;36mskipped=1   \u001b[0m rescued=0    ignored=0   \n",
      "\u001b[0;32m3198f74f775d4b2c907e820141543b9f\u001b[0m : \u001b[0;32mok=2   \u001b[0m changed=0    unreachable=0    failed=0    \u001b[0;36mskipped=1   \u001b[0m rescued=0    ignored=0   \n",
      "\u001b[0;32ma0fbfd46e619451f9cf82d3b5f627f48\u001b[0m : \u001b[0;32mok=2   \u001b[0m changed=0    unreachable=0    failed=0    \u001b[0;36mskipped=1   \u001b[0m rescued=0    ignored=0   \n",
      "Result executed? True\n",
      "Return code 0\n"
     ]
    }
   ],
   "source": [
    "output_dir = f'~/experiment-results-{time.time()}/' # dont forget the last slash (/) !\n",
    "role_name = 'npb'\n",
    "action = 'result'\n",
    "cluster_nodes = cluster_manager.get_all_cluster_nodes(cluster_id)\n",
    "\n",
    "extras = {\n",
    "    'output': output_dir\n",
    "}\n",
    "\n",
    "playbook_result = role_manager.perform_action(role_name, action, cluster_nodes, extra_args=extras)\n",
    "print(f'Result executed? {playbook_result.ok}')\n",
    "print(f'Return code {playbook_result.ret_code}')"
   ]
  },
  {
   "cell_type": "code",
   "execution_count": 22,
   "id": "0efb4cad-fa80-4f08-8512-5e463c24b747",
   "metadata": {},
   "outputs": [
    {
     "name": "stdout",
     "output_type": "stream",
     "text": [
      "- /home/lopani/tmp/eborin/mo833-atividade9/experiment-results-1653903592.8731565/239dafc58b354a5194a6ac039221517a.output\n",
      "- /home/lopani/tmp/eborin/mo833-atividade9/experiment-results-1653903592.8731565/hostfile\n",
      "\n"
     ]
    }
   ],
   "source": [
    "result_files = glob.glob(path_extend(output_dir, '*'))\n",
    "print(yaml.dump(result_files))"
   ]
  },
  {
   "cell_type": "markdown",
   "id": "88aedb6f-b2cc-45a7-a0fb-bcab958236f7",
   "metadata": {},
   "source": [
    "And parse some output..."
   ]
  },
  {
   "cell_type": "code",
   "execution_count": 23,
   "id": "678a3ddf-e35b-4675-b32a-ddb87568da83",
   "metadata": {},
   "outputs": [
    {
     "name": "stdout",
     "output_type": "stream",
     "text": [
      "Time to execute with 8 processes: 15.58 seconds\n"
     ]
    }
   ],
   "source": [
    "time_to_exec = None\n",
    "number_processes = None\n",
    "\n",
    "with open(result_files[0], 'r') as f:\n",
    "    for line in f:\n",
    "        if 'Time in seconds' in line:\n",
    "            time_to_exec = float(line.split('Time in seconds =')[1].strip())\n",
    "        if 'Total processes' in line:\n",
    "            number_processes = int(line.split('Total processes =')[1].strip())\n",
    "            \n",
    "per_proc_times[number_processes] = time_to_exec\n",
    "print(f\"Time to execute with {number_processes} processes: {time_to_exec} seconds\")"
   ]
  },
  {
   "cell_type": "markdown",
   "id": "e6d38e28-d697-49a7-8e99-3513b2444819",
   "metadata": {},
   "source": [
    "## Executing Benchmark with 1 node\n",
    "\n",
    "To remove nodes from cluster you can simple stop them, using `stop_nodes` from `NodeManager` class. If you don't want to stop the node, just remove the cluster tag at node using the `remove_tags` function from `NodeManager` class. The cluster tag is something like this: `.cluster:cluster-da580f1038254cfa98b203ca109ecb53`..."
   ]
  },
  {
   "cell_type": "code",
   "execution_count": 24,
   "id": "71dfbade-a3aa-460e-a2a0-3249943f6c17",
   "metadata": {},
   "outputs": [
    {
     "name": "stdout",
     "output_type": "stream",
     "text": [
      "['239dafc58b354a5194a6ac039221517a', '2e0ea767e03e49158748794a556622c0', 'a0fbfd46e619451f9cf82d3b5f627f48', '3198f74f775d4b2c907e820141543b9f']\n"
     ]
    }
   ],
   "source": [
    "cluster_nodes = cluster_manager.get_all_cluster_nodes(cluster_id)\n",
    "print(cluster_nodes)"
   ]
  },
  {
   "cell_type": "code",
   "execution_count": 25,
   "id": "4ca1dc74-5690-49b5-8b63-d97d7f2238cc",
   "metadata": {},
   "outputs": [
    {
     "name": "stdout",
     "output_type": "stream",
     "text": [
      "\u001b[1;35m[WARNING]: provided hosts list is empty, only localhost is available. Note that\u001b[0m\n",
      "\u001b[1;35mthe implicit localhost does not match 'all'\u001b[0m\n",
      "\u001b[0;35m[DEPRECATION WARNING]: amazon.aws.ec2 has been deprecated. The ec2 module is \u001b[0m\n",
      "\u001b[0;35mbased upon a deprecated version of the AWS SDKs and is deprecated in favor of \u001b[0m\n",
      "\u001b[0;35mthe ec2_instance module. Please update your tasks. This feature will be removed\u001b[0m\n",
      "\u001b[0;35m from amazon.aws in version 4.0.0. Deprecation warnings can be disabled by \u001b[0m\n",
      "\u001b[0;35msetting deprecation_warnings=False in ansible.cfg.\u001b[0m\n",
      "\n",
      "PLAY [localhost] ***************************************************************\n",
      "\n",
      "TASK [Stopping nodes KennethWillimas, LanaChacon, NormaGrollimund] *************\n",
      "\u001b[0;35mdeprecation_warnings=False in ansible.cfg.\u001b[0m\n",
      "\u001b[0;33mchanged: [localhost]\u001b[0m\n",
      "\n",
      "PLAY RECAP *********************************************************************\n",
      "\u001b[0;33mlocalhost\u001b[0m                  : \u001b[0;32mok=1   \u001b[0m \u001b[0;33mchanged=1   \u001b[0m unreachable=0    failed=0    skipped=0    rescued=0    ignored=0   \n",
      "['239dafc58b354a5194a6ac039221517a', '2e0ea767e03e49158748794a556622c0', 'a0fbfd46e619451f9cf82d3b5f627f48']\n"
     ]
    }
   ],
   "source": [
    "stopped_nodes = node_manager.stop_nodes(cluster_nodes[0:3])\n",
    "print(stopped_nodes)"
   ]
  },
  {
   "cell_type": "code",
   "execution_count": 26,
   "id": "c3c71779-8d38-4193-b5e2-bb7cb4abac8f",
   "metadata": {},
   "outputs": [
    {
     "name": "stdout",
     "output_type": "stream",
     "text": [
      "['3198f74f775d4b2c907e820141543b9f']\n"
     ]
    }
   ],
   "source": [
    "cluster_nodes = cluster_manager.get_all_cluster_nodes(cluster_id)\n",
    "print(cluster_nodes)"
   ]
  },
  {
   "cell_type": "markdown",
   "id": "02ff0a62-e536-49c9-9e1b-233ec01afc59",
   "metadata": {},
   "source": [
    "And running the application again..."
   ]
  },
  {
   "cell_type": "code",
   "execution_count": 27,
   "id": "c4e21d04-91cd-4687-b208-2935ac53f08b",
   "metadata": {},
   "outputs": [
    {
     "name": "stdout",
     "output_type": "stream",
     "text": [
      "\n",
      "PLAY [all] *********************************************************************\n",
      "\n",
      "TASK [Gathering Facts] *********************************************************\n",
      "\u001b[0;32mok: [3198f74f775d4b2c907e820141543b9f]\u001b[0m\n",
      "\n",
      "TASK [Set some variables] ******************************************************\n",
      "\u001b[0;32mok: [3198f74f775d4b2c907e820141543b9f]\u001b[0m\n",
      "\n",
      "TASK [Changing hostname] *******************************************************\n",
      "\u001b[0;32mok: [3198f74f775d4b2c907e820141543b9f]\u001b[0m\n",
      "\n",
      "TASK [Perform necessary package installation for NPB] **************************\n",
      "\u001b[0;32mok: [3198f74f775d4b2c907e820141543b9f]\u001b[0m\n",
      "\n",
      "TASK [Get NPB (wget)] **********************************************************\n",
      "\u001b[0;32mok: [3198f74f775d4b2c907e820141543b9f]\u001b[0m\n",
      "\n",
      "TASK [Untar NPB file] **********************************************************\n",
      "\u001b[0;32mok: [3198f74f775d4b2c907e820141543b9f]\u001b[0m\n",
      "\n",
      "TASK [Defining make template] **************************************************\n",
      "\u001b[0;32mok: [3198f74f775d4b2c907e820141543b9f]\u001b[0m\n",
      "\n",
      "TASK [Compiling some binaries] *************************************************\n",
      "\u001b[0;33mchanged: [3198f74f775d4b2c907e820141543b9f]\u001b[0m\n",
      "\n",
      "TASK [Copy binary file to user's home directory] *******************************\n",
      "\u001b[0;32mok: [3198f74f775d4b2c907e820141543b9f]\u001b[0m\n",
      "\n",
      "TASK [Define binary variable] **************************************************\n",
      "\u001b[0;32mok: [3198f74f775d4b2c907e820141543b9f]\u001b[0m\n",
      "\n",
      "TASK [Copy a public key to hosts] **********************************************\n",
      "\u001b[0;32mok: [3198f74f775d4b2c907e820141543b9f]\u001b[0m\n",
      "\n",
      "TASK [Copy a private key to hosts] *********************************************\n",
      "\u001b[0;32mok: [3198f74f775d4b2c907e820141543b9f]\u001b[0m\n",
      "\n",
      "TASK [Put key in authorized keys] **********************************************\n",
      "\u001b[0;32mok: [3198f74f775d4b2c907e820141543b9f]\u001b[0m\n",
      "\n",
      "TASK [Remove strict host checking] *********************************************\n",
      "\u001b[0;32mok: [3198f74f775d4b2c907e820141543b9f]\u001b[0m\n",
      "\n",
      "PLAY RECAP *********************************************************************\n",
      "\u001b[0;33m3198f74f775d4b2c907e820141543b9f\u001b[0m : \u001b[0;32mok=14  \u001b[0m \u001b[0;33mchanged=1   \u001b[0m unreachable=0    failed=0    skipped=0    rescued=0    ignored=0   \n",
      "\n",
      "PLAY [all] *********************************************************************\n",
      "\n",
      "TASK [Gathering Facts] *********************************************************\n",
      "\u001b[0;32mok: [3198f74f775d4b2c907e820141543b9f]\u001b[0m\n",
      "\n",
      "TASK [Remove hostfile] *********************************************************\n",
      "\u001b[0;32mok: [3198f74f775d4b2c907e820141543b9f]\u001b[0m\n",
      "\n",
      "TASK [Generating hostfile] *****************************************************\n",
      "\u001b[0;33mchanged: [3198f74f775d4b2c907e820141543b9f] => (item=3198f74f775d4b2c907e820141543b9f)\u001b[0m\n",
      "\n",
      "TASK [Running MPI] *************************************************************\n",
      "\u001b[0;33mchanged: [3198f74f775d4b2c907e820141543b9f]\u001b[0m\n",
      "\n",
      "PLAY RECAP *********************************************************************\n",
      "\u001b[0;33m3198f74f775d4b2c907e820141543b9f\u001b[0m : \u001b[0;32mok=4   \u001b[0m \u001b[0;33mchanged=2   \u001b[0m unreachable=0    failed=0    skipped=0    rescued=0    ignored=0   \n"
     ]
    }
   ],
   "source": [
    "cluster_manager.setup_cluster(cluster_id)"
   ]
  },
  {
   "cell_type": "markdown",
   "id": "3d36d9b4-6b3f-4ec2-8d2b-46ccebcb14b4",
   "metadata": {},
   "source": [
    "Fetching some results..."
   ]
  },
  {
   "cell_type": "code",
   "execution_count": 28,
   "id": "ded553bc-c9d4-4d5d-a3cd-1f9c7465759f",
   "metadata": {},
   "outputs": [
    {
     "name": "stdout",
     "output_type": "stream",
     "text": [
      "\n",
      "PLAY [all] *********************************************************************\n",
      "\n",
      "TASK [Gathering Facts] *********************************************************\n",
      "\u001b[0;32mok: [3198f74f775d4b2c907e820141543b9f]\u001b[0m\n",
      "\n",
      "TASK [Find files to copy] ******************************************************\n",
      "\u001b[0;32mok: [3198f74f775d4b2c907e820141543b9f]\u001b[0m\n",
      "\n",
      "TASK [Copy output files to ~/experiment-results-1653903748.6648753/] ***********\n",
      "\u001b[0;33mchanged: [3198f74f775d4b2c907e820141543b9f] => (item={'path': '/home/ubuntu/3198f74f775d4b2c907e820141543b9f.output', 'mode': '0664', 'isdir': False, 'ischr': False, 'isblk': False, 'isreg': True, 'isfifo': False, 'islnk': False, 'issock': False, 'uid': 1000, 'gid': 1000, 'size': 2067, 'inode': 263941, 'dev': 51713, 'nlink': 1, 'atime': 1653903727.3551593, 'mtime': 1653903747.6751235, 'ctime': 1653903747.6751235, 'gr_name': 'ubuntu', 'pw_name': 'ubuntu', 'wusr': True, 'rusr': True, 'xusr': False, 'wgrp': True, 'rgrp': True, 'xgrp': False, 'woth': False, 'roth': True, 'xoth': False, 'isuid': False, 'isgid': False})\u001b[0m\n",
      "\u001b[0;33mchanged: [3198f74f775d4b2c907e820141543b9f] => (item={'path': '/home/ubuntu/hostfile', 'mode': '0664', 'isdir': False, 'ischr': False, 'isblk': False, 'isreg': True, 'isfifo': False, 'islnk': False, 'issock': False, 'uid': 1000, 'gid': 1000, 'size': 64, 'inode': 263940, 'dev': 51713, 'nlink': 1, 'atime': 1653903727.3831592, 'mtime': 1653903721.66317, 'ctime': 1653903721.66317, 'gr_name': 'ubuntu', 'pw_name': 'ubuntu', 'wusr': True, 'rusr': True, 'xusr': False, 'wgrp': True, 'rgrp': True, 'xgrp': False, 'woth': False, 'roth': True, 'xoth': False, 'isuid': False, 'isgid': False})\u001b[0m\n",
      "\n",
      "PLAY RECAP *********************************************************************\n",
      "\u001b[0;33m3198f74f775d4b2c907e820141543b9f\u001b[0m : \u001b[0;32mok=3   \u001b[0m \u001b[0;33mchanged=1   \u001b[0m unreachable=0    failed=0    skipped=0    rescued=0    ignored=0   \n",
      "Result executed? True\n",
      "Return code 0\n"
     ]
    }
   ],
   "source": [
    "output_dir = f'~/experiment-results-{time.time()}/' # dont forget the last slash (/) !\n",
    "role_name = 'npb'\n",
    "action = 'result'\n",
    "cluster_nodes = cluster_manager.get_all_cluster_nodes(cluster_id)\n",
    "\n",
    "extras = {\n",
    "    'output': output_dir\n",
    "}\n",
    "\n",
    "playbook_result = role_manager.perform_action(role_name, action, cluster_nodes, extra_args=extras)\n",
    "print(f'Result executed? {playbook_result.ok}')\n",
    "print(f'Return code {playbook_result.ret_code}')"
   ]
  },
  {
   "cell_type": "code",
   "execution_count": 29,
   "id": "457e1b52-f1fc-43f7-8b51-a300a891f5db",
   "metadata": {},
   "outputs": [
    {
     "name": "stdout",
     "output_type": "stream",
     "text": [
      "- /home/lopani/tmp/eborin/mo833-atividade9/experiment-results-1653903748.6648753/3198f74f775d4b2c907e820141543b9f.output\n",
      "- /home/lopani/tmp/eborin/mo833-atividade9/experiment-results-1653903748.6648753/hostfile\n",
      "\n"
     ]
    }
   ],
   "source": [
    "result_files = glob.glob(path_extend(output_dir, '*'))\n",
    "print(yaml.dump(result_files))"
   ]
  },
  {
   "cell_type": "markdown",
   "id": "c4f9a137-bd79-4a9a-b9d1-f4b42bfddd07",
   "metadata": {},
   "source": [
    "And parsing them..."
   ]
  },
  {
   "cell_type": "code",
   "execution_count": 34,
   "id": "95d4e66a-b09f-4465-93c0-57a86244973a",
   "metadata": {},
   "outputs": [
    {
     "name": "stdout",
     "output_type": "stream",
     "text": [
      "Time to execute with 2 processes: 8.49 seconds\n"
     ]
    }
   ],
   "source": [
    "time_to_exec = None\n",
    "number_processes = None\n",
    "\n",
    "with open(result_files[0], 'r') as f:\n",
    "    for line in f:\n",
    "        if 'Time in seconds' in line:\n",
    "            time_to_exec = float(line.split('Time in seconds =')[1].strip())\n",
    "        if 'Total processes' in line:\n",
    "            number_processes = int(line.split('Total processes =')[1].strip())\n",
    "            \n",
    "per_proc_times[number_processes] = time_to_exec\n",
    "print(f\"Time to execute with {number_processes} processes: {time_to_exec} seconds\")"
   ]
  },
  {
   "cell_type": "code",
   "execution_count": 36,
   "id": "cc4b7376-612b-43c2-aa6a-17b3ba3a7fa9",
   "metadata": {},
   "outputs": [],
   "source": [
    "del per_proc_times[None]"
   ]
  },
  {
   "cell_type": "markdown",
   "id": "c3dbd76a-de86-4ecb-afeb-f6d02b816265",
   "metadata": {},
   "source": [
    "### Final application execution times with 2, 4 and 8 nodes"
   ]
  },
  {
   "cell_type": "code",
   "execution_count": 37,
   "id": "088d702d-2ce8-430f-889a-f4dbfd7dd4fd",
   "metadata": {},
   "outputs": [
    {
     "data": {
      "image/png": "[encoded data removed]",
      "text/plain": [
       "<Figure size 432x288 with 1 Axes>"
      ]
     },
     "metadata": {
      "needs_background": "light"
     },
     "output_type": "display_data"
    }
   ],
   "source": [
    "xs, ys = [], []\n",
    "for n_procs in sorted(per_proc_times.keys()):\n",
    "    xs.append(n_procs)\n",
    "    ys.append(per_proc_times[n_procs])\n",
    "plt.plot(xs, ys)\n",
    "plt.show()"
   ]
  },
  {
   "cell_type": "markdown",
   "id": "dacea33b-6056-4f0b-b15e-9a76768d79ca",
   "metadata": {},
   "source": [
    "## Stopping cluster\n",
    "\n",
    "Finally we can stop the cluster (and stop all nodes) using the `stop_cluster` command. This will also remove the cluster from cluster repository.\n",
    "\n",
    "Other similar functions are:\n",
    "* `resume_cluster`: That will resume all paused nodes of a cluster  \n",
    "* `pause_cluster`: That will pause all nodes of a cluster\n",
    "* `is_alive`: That will check if all cluster nodes are alive"
   ]
  },
  {
   "cell_type": "code",
   "execution_count": 38,
   "id": "3ab4f63d-e940-48af-9026-c8a6809efdb5",
   "metadata": {},
   "outputs": [
    {
     "name": "stdout",
     "output_type": "stream",
     "text": [
      "\u001b[1;35m[WARNING]: provided hosts list is empty, only localhost is available. Note that\u001b[0m\n",
      "\u001b[1;35mthe implicit localhost does not match 'all'\u001b[0m\n",
      "\u001b[0;35m[DEPRECATION WARNING]: amazon.aws.ec2 has been deprecated. The ec2 module is \u001b[0m\n",
      "\u001b[0;35mbased upon a deprecated version of the AWS SDKs and is deprecated in favor of \u001b[0m\n",
      "\u001b[0;35mthe ec2_instance module. Please update your tasks. This feature will be removed\u001b[0m\n",
      "\u001b[0;35m from amazon.aws in version 4.0.0. Deprecation warnings can be disabled by \u001b[0m\n",
      "\u001b[0;35msetting deprecation_warnings=False in ansible.cfg.\u001b[0m\n",
      "\n",
      "PLAY [localhost] ***************************************************************\n",
      "\n",
      "TASK [Stopping nodes FredrickParis] ********************************************\n",
      "\u001b[0;35m[DEPRECATION WARNING]: The 'ec2' module has been deprecated and replaced by the\u001b[0m\n",
      "\u001b[0;35m 'ec2_instance' module'. This feature will be removed from amazon.aws in \u001b[0m\n",
      "\u001b[0;35mversion 4.0.0. Deprecation warnings can be disabled by setting \u001b[0m\n",
      "\u001b[0;35mdeprecation_warnings=False in ansible.cfg.\u001b[0m\n",
      "\u001b[0;33mchanged: [localhost]\u001b[0m\n",
      "\n",
      "PLAY RECAP *********************************************************************\n",
      "\u001b[0;33mlocalhost\u001b[0m                  : \u001b[0;32mok=1   \u001b[0m \u001b[0;33mchanged=1   \u001b[0m unreachable=0    failed=0    skipped=0    rescued=0    ignored=0   \n"
     ]
    },
    {
     "data": {
      "text/plain": [
       "['3198f74f775d4b2c907e820141543b9f']"
      ]
     },
     "execution_count": 38,
     "metadata": {},
     "output_type": "execute_result"
    }
   ],
   "source": [
    "cluster_manager.stop_cluster(cluster_id)"
   ]
  },
  {
   "cell_type": "code",
   "execution_count": null,
   "id": "a9c17127-8bd8-4bbf-b85d-490698a083a1",
   "metadata": {},
   "outputs": [],
   "source": []
  }
 ],
 "metadata": {
  "kernelspec": {
   "display_name": "Python 3 (ipykernel)",
   "language": "python",
   "name": "python3"
  },
  "language_info": {
   "codemirror_mode": {
    "name": "ipython",
    "version": 3
   },
   "file_extension": ".py",
   "mimetype": "text/x-python",
   "name": "python",
   "nbconvert_exporter": "python",
   "pygments_lexer": "ipython3",
   "version": "3.9.12"
  }
 },
 "nbformat": 4,
 "nbformat_minor": 5
}
