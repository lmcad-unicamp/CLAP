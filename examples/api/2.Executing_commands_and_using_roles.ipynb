{
 "cells": [
  {
   "cell_type": "markdown",
   "id": "c06cfc4d-dc37-4805-b403-b35090fca9cd",
   "metadata": {},
   "source": [
    "# Executing commands and Playbooks at Nodes and using the Role System\n",
    "\n",
    "This notebook briefly describes how to execute commands in CLAP nodes. \n",
    "There are three ways to execute commands:\n",
    "* Directly executing shell commands\n",
    "* Executing an Ansible playbook\n",
    "* Executing role's actions"
   ]
  },
  {
   "cell_type": "code",
   "execution_count": 1,
   "id": "32ca95a1-430d-4a52-a9d5-79a674be4b43",
   "metadata": {},
   "outputs": [
    {
     "name": "stdout",
     "output_type": "stream",
     "text": [
      "Package               Version\n",
      "--------------------- -----------\n",
      "ansible               5.8.0\n",
      "ansible-core          2.12.6\n",
      "ansible-runner        2.2.0\n",
      "anyio                 3.6.1\n",
      "argcomplete           2.0.0\n",
      "argon2-cffi           21.3.0\n",
      "argon2-cffi-bindings  21.2.0\n",
      "asttokens             2.0.5\n",
      "attrs                 21.4.0\n",
      "Babel                 2.10.1\n",
      "backcall              0.2.0\n",
      "bcrypt                3.2.2\n",
      "beautifulsoup4        4.11.1\n",
      "bleach                5.0.0\n",
      "boto                  2.49.0\n",
      "boto3                 1.23.8\n",
      "botocore              1.26.8\n",
      "certifi               2022.5.18.1\n",
      "cffi                  1.15.0\n",
      "charset-normalizer    2.0.12\n",
      "click                 8.1.3\n",
      "coloredlogs           15.0.1\n",
      "contextlib2           21.6.0\n",
      "cryptography          37.0.2\n",
      "cycler                0.11.0\n",
      "dacite                1.6.0\n",
      "debugpy               1.6.0\n",
      "decorator             5.1.1\n",
      "defusedxml            0.7.1\n",
      "docutils              0.18.1\n",
      "entrypoints           0.4\n",
      "executing             0.8.3\n",
      "fastjsonschema        2.15.3\n",
      "fire                  0.4.0\n",
      "fonttools             4.33.3\n",
      "humanfriendly         10.0\n",
      "idna                  3.3\n",
      "importlib-metadata    4.11.4\n",
      "iniconfig             1.1.1\n",
      "ipaddress             1.0.23\n",
      "ipykernel             6.13.0\n",
      "ipython               8.3.0\n",
      "ipython-genutils      0.2.0\n",
      "jedi                  0.18.1\n",
      "Jinja2                3.1.2\n",
      "jmespath              1.0.0\n",
      "json5                 0.9.8\n",
      "jsonschema            4.5.1\n",
      "jupyter-client        7.3.1\n",
      "jupyter-core          4.10.0\n",
      "jupyter-server        1.17.0\n",
      "jupyterlab            3.4.2\n",
      "jupyterlab-pygments   0.2.2\n",
      "jupyterlab-server     2.14.0\n",
      "kiwisolver            1.4.2\n",
      "lockfile              0.12.2\n",
      "MarkupSafe            2.1.1\n",
      "marshmallow           3.15.0\n",
      "marshmallow-dataclass 8.5.8\n",
      "matplotlib            3.5.2\n",
      "matplotlib-inline     0.1.3\n",
      "mistune               0.8.4\n",
      "mypy-extensions       0.4.3\n",
      "names                 0.3.0\n",
      "nbclassic             0.3.7\n",
      "nbclient              0.6.3\n",
      "nbconvert             6.5.0\n",
      "nbformat              5.4.0\n",
      "nest-asyncio          1.5.5\n",
      "netaddr               0.8.0\n",
      "notebook              6.4.11\n",
      "notebook-shim         0.1.0\n",
      "numpy                 1.22.4\n",
      "packaging             21.3\n",
      "pandocfilters         1.5.0\n",
      "paramiko              2.11.0\n",
      "parso                 0.8.3\n",
      "pexpect               4.8.0\n",
      "pickleshare           0.7.5\n",
      "Pillow                9.1.1\n",
      "pip                   22.0.4\n",
      "pluggy                1.0.0\n",
      "prometheus-client     0.14.1\n",
      "prompt-toolkit        3.0.29\n",
      "psutil                5.9.1\n",
      "ptyprocess            0.7.0\n",
      "pure-eval             0.2.2\n",
      "py                    1.11.0\n",
      "pyCLI                 2.0.3\n",
      "pycparser             2.21\n",
      "pycrypto              2.6.1\n",
      "Pygments              2.12.0\n",
      "PyNaCl                1.5.0\n",
      "pyparsing             3.0.9\n",
      "pyrsistent            0.18.1\n",
      "pytest                7.1.2\n",
      "python-daemon         2.3.0\n",
      "python-dateutil       2.8.2\n",
      "pytz                  2022.1\n",
      "PyYAML                6.0\n",
      "pyzmq                 23.0.0\n",
      "randomname            0.1.5\n",
      "requests              2.27.1\n",
      "resolvelib            0.5.4\n",
      "s3transfer            0.5.2\n",
      "scandir               1.10.0\n",
      "schema                0.7.5\n",
      "SecretStorage         2.3.1\n",
      "Send2Trash            1.8.0\n",
      "setuptools            58.1.0\n",
      "six                   1.16.0\n",
      "sniffio               1.2.0\n",
      "soupsieve             2.3.2.post1\n",
      "sqlitedict            2.0.0\n",
      "stack-data            0.2.0\n",
      "subprocess32          3.5.4\n",
      "termcolor             1.1.0\n",
      "terminado             0.15.0\n",
      "tinycss2              1.1.1\n",
      "tomli                 2.0.1\n",
      "tornado               6.1\n",
      "traitlets             5.2.1.post0\n",
      "typeguard             2.13.3\n",
      "typing_extensions     4.2.0\n",
      "typing-inspect        0.7.1\n",
      "urllib3               1.26.9\n",
      "wcwidth               0.2.5\n",
      "webencodings          0.5.1\n",
      "websocket-client      1.3.2\n",
      "wheel                 0.37.1\n",
      "zipp                  3.8.0\n",
      "\u001b[33mWARNING: You are using pip version 22.0.4; however, version 22.1.1 is available.\n",
      "You should consider upgrading via the '/usr/local/bin/python -m pip install --upgrade pip' command.\u001b[0m\u001b[33m\n",
      "\u001b[0m"
     ]
    }
   ],
   "source": [
    "import sys\n",
    "sys.path.append('../..')\n",
    "!pip list"
   ]
  },
  {
   "cell_type": "markdown",
   "id": "e4fe01bd-50d6-4e5e-9153-51d5c93d0253",
   "metadata": {},
   "source": [
    "Let's start by importing useful modules"
   ]
  },
  {
   "cell_type": "code",
   "execution_count": 2,
   "id": "9a26ed6f-1029-4225-9120-faecad5d6b4a",
   "metadata": {},
   "outputs": [],
   "source": [
    "import yaml\n",
    "import os\n",
    "from dataclasses import asdict\n",
    "from app.cli.modules.node import get_config_db, get_node_manager\n",
    "from app.cli.modules.role import get_role_manager\n",
    "from clap.utils import float_time_to_string, path_extend\n",
    "from clap.executor import SSHCommandExecutor, AnsiblePlaybookExecutor"
   ]
  },
  {
   "cell_type": "markdown",
   "id": "2f7be63b-ce4d-4a3c-8d41-0aeb0ddf3320",
   "metadata": {},
   "source": [
    "Let's create manager objects"
   ]
  },
  {
   "cell_type": "code",
   "execution_count": 3,
   "id": "17998406-d4f7-44fc-8c6a-97f3f4503dc2",
   "metadata": {},
   "outputs": [],
   "source": [
    "configuration_db = get_config_db()\n",
    "node_manager = get_node_manager()\n",
    "role_manager = get_role_manager()\n",
    "# Private's path (usually $CLAP_PATH/private/) will be used for other methods\n",
    "private_path = node_manager.private_path"
   ]
  },
  {
   "cell_type": "markdown",
   "id": "8c397967-3ba1-4641-87d3-892f134fe301",
   "metadata": {},
   "source": [
    "And get nodes in CLAP's system. Here we have 2 nodes, previously created with CLAP"
   ]
  },
  {
   "cell_type": "code",
   "execution_count": 4,
   "id": "32f2a374-39b2-47cb-8efd-f6517ef8d1dc",
   "metadata": {},
   "outputs": [
    {
     "name": "stdout",
     "output_type": "stream",
     "text": [
      "Node ID: 453bb69b086443d09d2a331437e3c00d (TinaWilson); status: reachable; IP: 3.87.141.240; type: type-t2.medium\n",
      "Node ID: 3d5e27ce3f16477ba4bd152db373941a (RichardWatts); status: reachable; IP: 54.152.114.22; type: type-t2.medium\n"
     ]
    }
   ],
   "source": [
    "nodes = node_manager.get_all_nodes()\n",
    "for node in nodes:\n",
    "    print(f\"Node ID: {node.node_id} ({node.nickname}); status: {node.status}; \"\n",
    "          f\"IP: {node.ip}; type: {node.configuration.instance.instance_config_id}\")"
   ]
  },
  {
   "cell_type": "markdown",
   "id": "5f372079-8b75-4524-8a79-aa59cc36650f",
   "metadata": {},
   "source": [
    "Let's update node information using the `is_alive` method"
   ]
  },
  {
   "cell_type": "code",
   "execution_count": 5,
   "id": "1975df88-48b1-4e8a-a9a2-e434fe5548b4",
   "metadata": {},
   "outputs": [
    {
     "name": "stdout",
     "output_type": "stream",
     "text": [
      "Node 453bb69b086443d09d2a331437e3c00d is alive\n",
      "Node 3d5e27ce3f16477ba4bd152db373941a is alive\n"
     ]
    }
   ],
   "source": [
    "node_ids = [node.node_id for node in nodes]\n",
    "for node_id, status in node_manager.is_alive(node_ids).items():\n",
    "    print(f\"Node {node_id} is {'alive' if status else 'not alive'}\")"
   ]
  },
  {
   "cell_type": "markdown",
   "id": "5fd7cc13-87a6-4e28-bd1d-abf8e0760395",
   "metadata": {},
   "source": [
    "## Executing Shell commands directly, using SSHCommandExecutor class\n",
    "\n",
    "The SSHCommandExecutor class allows you to execute shel commands in nodes. The command is a string of shell commands. This class must be initializated with the command string, the list of **NodeDescriptors** and the path to private directory.\n",
    "\n",
    "After using the run() method from SSHCommandExecutor, it wil be returned a dataclass called `CommandResult` with the following information:\n",
    "* ok: if the command was executed in nodes (SSH performed and command executed)\n",
    "* ret_code: if the command was executed (ok==True), this will contain the return code, otherwise None\n",
    "* stdout_lines: if the command was executed (ok==True), this will contain a list of strings of the stdout output, otherwise None\n",
    "* stderr_lines: if the command was executed (ok==True), this will contain a list of strings of the stderr output, otherwise None\n",
    "* error: if the command was not executed (ok==False), this will contain the string with the exception, otherwise None"
   ]
  },
  {
   "cell_type": "code",
   "execution_count": 6,
   "id": "ee5bd1d5-adf4-4062-b3b6-78ac02efcc47",
   "metadata": {},
   "outputs": [
    {
     "name": "stdout",
     "output_type": "stream",
     "text": [
      "Node id 453bb69b086443d09d2a331437e3c00d, executed the command: True, ret code: 0\n",
      "-----\n",
      "error: null\n",
      "ok: true\n",
      "ret_code: 0\n",
      "stderr_lines:\n",
      "- 'Cloning into ''CLAP-via-ssh''...\n",
      "\n",
      "    '\n",
      "stdout_lines:\n",
      "- 'Cloned CLAP into CLAP-via-ssh\n",
      "\n",
      "    '\n",
      "\n",
      "Node id 3d5e27ce3f16477ba4bd152db373941a, executed the command: True, ret code: 0\n",
      "-----\n",
      "error: null\n",
      "ok: true\n",
      "ret_code: 0\n",
      "stderr_lines:\n",
      "- 'Cloning into ''CLAP-via-ssh''...\n",
      "\n",
      "    '\n",
      "stdout_lines:\n",
      "- 'Cloned CLAP into CLAP-via-ssh\n",
      "\n",
      "    '\n",
      "\n"
     ]
    }
   ],
   "source": [
    "command_to_execute = \"\"\"\n",
    "git clone https://github.com/lmcad-unicamp/CLAP.git CLAP-via-ssh\n",
    "echo Cloned CLAP into CLAP-via-ssh\n",
    "\"\"\"\n",
    "executor = SSHCommandExecutor(command_to_execute, nodes, private_path)\n",
    "result = executor.run()\n",
    "\n",
    "for node_id, res in result.items():\n",
    "    print(f\"Node id {node_id}, executed the command: {res.ok}, ret code: {res.ret_code}\")\n",
    "    # resut is a dataclass, we can convert to a dictionary\n",
    "    res_dict = asdict(res)\n",
    "    print('-----')\n",
    "    # Dump dictionary in YAML format\n",
    "    print(yaml.dump(res_dict, indent=4, sort_keys=True))"
   ]
  },
  {
   "cell_type": "markdown",
   "id": "cd62a2e9-f302-4260-9d6b-92004d07b01d",
   "metadata": {},
   "source": [
    "# Executing an Ansible Playbook in nodes using the AnsiblePlaybookExecutor class\n",
    "\n",
    "AnsiblePlaybookExecutor class allows CLAP to execute an Ansible playbook directly in CLAP's nodes. This class must be initializated with the path of the playbook, the path to private directory and the inventory.\n",
    "\n",
    "The AnsiblePlaybookExecutor `run()` method executes the Playbook and returns a dataclass called `PlaybookResult`. \n",
    "This dataclass contains the following information:\n",
    "* `ok`: if the command was executed in nodes (playbook was executed)\n",
    "* `ret_code`: Ansible return code\n",
    "* `hosts`: A dictionary where the keys are the node ids and the value is a boolean containing True if playbook was executed without errors in node and false otherwise.\n",
    "* `events`: A dictionary where the keys are the node ids and the value is a list of dicionaries with all ansible events (see ansible-runner for more information on Ansible events)\n",
    "* `vars`: A dictionary where the keys are the node ids and the value is a dictionary of the facts set to this node inside the playbook. Every `set_fact` in Ansible Playbook is visible to CLAP through this variable. \n",
    "\n",
    "The inventory can be generated using AnsiblePlaybookExecutor.create_inventory static method, passing the nodes and the private path as arguments."
   ]
  },
  {
   "cell_type": "markdown",
   "id": "10d09fec-f9bf-4979-bf15-85374f866a31",
   "metadata": {},
   "source": [
    "We will execute the playbook listed below at nodes: `cc5d4f42def946fd9c6fb0520c0017ef` and `0ff442cf07424506b4f6c01290b425c2`. The playbook can be used to install CLAP at nodes.\n",
    "\n",
    "The playbook will: \n",
    "* Update apt cache and install packages\n",
    "* Clone a git repository\n",
    "* Set CLAP's install.sh file to be executable\n",
    "* Run install.sh script\n",
    "* Set a fact called `clap_dir` with the directory where CLAP was installed at remote hosts. It will be visible to PlaybookResult.vars\n",
    "\n",
    "Besides that, variables can be passed to playbook through `extra` variable when initiaizing `AnsiblePlaybookExecutor`. This parameter receives a dictionary with key and values being strings."
   ]
  },
  {
   "cell_type": "markdown",
   "id": "7406d98c-fb2f-4cbe-8673-f9b966ae4d9a",
   "metadata": {},
   "source": [
    "For simplicity, the playbook's contents is shown below. To proceed this playbook can be saved in a file. Here, it was stored at `./playbook.yaml`.\n",
    "\n",
    "```\n",
    "---\n",
    "- hosts: all\n",
    "  gather_facts: True    # Query a set of variables in remote hosts\n",
    "  gather_subset: min\n",
    "  tasks:\n",
    "  - name: Perform package list update\n",
    "    become: yes         # Execute as root user\n",
    "    apt:\n",
    "      pkg: \n",
    "        - gcc\n",
    "        - git\n",
    "        - g++\n",
    "        - libc6-dev \n",
    "        - libffi-dev \n",
    "        - libssl-dev \n",
    "        - virtualenv \n",
    "        - python3 \n",
    "        - python3-pip\n",
    "        - python3-venv\n",
    "      update_cache: yes\n",
    "\n",
    "  - name: Clone CLAP's repository\n",
    "    git:\n",
    "      repo: https://github.com/lmcad-unicamp/CLAP.git\n",
    "      dest: \"{{ ansible_env.HOME }}/clap-from-ansible\"\n",
    "\n",
    "  - name: Set chmod for install.sh CLAP's file\n",
    "    file:\n",
    "      path: \"{{ ansible_env.HOME }}/clap-from-ansible/install.sh\"\n",
    "      mode: '0777'\n",
    "\n",
    "  - name: Run CLAP's install.sh and install CLAP\n",
    "    shell:\n",
    "      cmd: \"{{ ansible_env.HOME }}/clap-from-ansible/install.sh\"\n",
    "      chdir: \"{{ ansible_env.HOME }}/clap-from-ansible/\"\n",
    "\n",
    "  - name: Set directory where CLAP where installed as a fact\n",
    "    set_fact:\n",
    "      clap_dir: \"{{ ansible_env.HOME }}/clap-from-ansible/\"\n",
    "```"
   ]
  },
  {
   "cell_type": "code",
   "execution_count": 7,
   "id": "513df281-062e-4dcb-b113-202b993bf605",
   "metadata": {},
   "outputs": [
    {
     "name": "stdout",
     "output_type": "stream",
     "text": [
      "\n",
      "PLAY [all] *********************************************************************\n",
      "\n",
      "TASK [Gathering Facts] *********************************************************\n",
      "\u001b[0;32mok: [453bb69b086443d09d2a331437e3c00d]\u001b[0m\n",
      "\u001b[0;32mok: [3d5e27ce3f16477ba4bd152db373941a]\u001b[0m\n",
      "\n",
      "TASK [Perform package list update] *********************************************\n",
      "\u001b[0;33mchanged: [453bb69b086443d09d2a331437e3c00d]\u001b[0m\n",
      "\u001b[0;33mchanged: [3d5e27ce3f16477ba4bd152db373941a]\u001b[0m\n",
      "\n",
      "TASK [Clone CLAP's repository] *************************************************\n",
      "\u001b[0;33mchanged: [453bb69b086443d09d2a331437e3c00d]\u001b[0m\n",
      "\u001b[0;33mchanged: [3d5e27ce3f16477ba4bd152db373941a]\u001b[0m\n",
      "\n",
      "TASK [Set chmod for install.sh CLAP's file] ************************************\n",
      "\u001b[0;33mchanged: [453bb69b086443d09d2a331437e3c00d]\u001b[0m\n",
      "\u001b[0;33mchanged: [3d5e27ce3f16477ba4bd152db373941a]\u001b[0m\n",
      "\n",
      "TASK [Run CLAP's install.sh and install CLAP] **********************************\n",
      "\u001b[0;33mchanged: [453bb69b086443d09d2a331437e3c00d]\u001b[0m\n",
      "\u001b[0;33mchanged: [3d5e27ce3f16477ba4bd152db373941a]\u001b[0m\n",
      "\n",
      "TASK [Set directory where CLAP where installed as a fact] **********************\n",
      "\u001b[0;32mok: [453bb69b086443d09d2a331437e3c00d]\u001b[0m\n",
      "\u001b[0;32mok: [3d5e27ce3f16477ba4bd152db373941a]\u001b[0m\n",
      "\n",
      "PLAY RECAP *********************************************************************\n",
      "\u001b[0;33m3d5e27ce3f16477ba4bd152db373941a\u001b[0m : \u001b[0;32mok=6   \u001b[0m \u001b[0;33mchanged=4   \u001b[0m unreachable=0    failed=0    skipped=0    rescued=0    ignored=0   \n",
      "\u001b[0;33m453bb69b086443d09d2a331437e3c00d\u001b[0m : \u001b[0;32mok=6   \u001b[0m \u001b[0;33mchanged=4   \u001b[0m unreachable=0    failed=0    skipped=0    rescued=0    ignored=0   \n"
     ]
    }
   ],
   "source": [
    "workdir = os.getcwd()\n",
    "playbook_file = path_extend(f'{workdir}/playbook.yaml')\n",
    "inventory = AnsiblePlaybookExecutor.create_inventory(nodes, private_path)\n",
    "executor = AnsiblePlaybookExecutor(playbook_file, private_path, inventory=inventory)\n",
    "result = executor.run()"
   ]
  },
  {
   "cell_type": "markdown",
   "id": "8a22d062-3caa-4b2c-853b-e01cdf9ea332",
   "metadata": {},
   "source": [
    "Let's check the playbook results"
   ]
  },
  {
   "cell_type": "code",
   "execution_count": 8,
   "id": "bec904d9-f823-4890-a3ea-050b864d0702",
   "metadata": {},
   "outputs": [
    {
     "name": "stdout",
     "output_type": "stream",
     "text": [
      "Did the playbook executed? True\n",
      "Ansible playbook return code: 0\n",
      "Let's check how nodes executed: \n",
      "    Node 453bb69b086443d09d2a331437e3c00d: True\n",
      "    Node 3d5e27ce3f16477ba4bd152db373941a: True\n",
      "Let's check variables set using set_fact module: \n",
      "    Node 453bb69b086443d09d2a331437e3c00d: {'clap_dir': '/home/ubuntu/clap-from-ansible/'}\n",
      "    Node 3d5e27ce3f16477ba4bd152db373941a: {'clap_dir': '/home/ubuntu/clap-from-ansible/'}\n"
     ]
    }
   ],
   "source": [
    "print(f\"Did the playbook executed? {result.ok}\")\n",
    "print(f\"Ansible playbook return code: {result.ret_code}\")\n",
    "print(f\"Let's check how nodes executed: \")\n",
    "for node_id, status in result.hosts.items():\n",
    "    print(f\"    Node {node_id}: {status}\")\n",
    "print(f\"Let's check variables set using set_fact module: \")\n",
    "for node_id, facts in result.vars.items():\n",
    "    print(f\"    Node {node_id}: {facts}\")"
   ]
  },
  {
   "cell_type": "markdown",
   "id": "fd818b24-0376-4ef1-8b17-5dda9814fa62",
   "metadata": {},
   "source": [
    "# Roles\n",
    "\n",
    "Roles are easy ways to organize and execute Playbook at nodes that play a role. We will add nodes to a role called `commands-common`. \n",
    "Nodes that play this role can perform common operations like copy and fetch files, install and update packages, reboot, among others.\n",
    "\n",
    "We will copy files from local to remote hosts, using `commands-common` role. The workflow will be:\n",
    "* Add nodes to `commands-common` role\n",
    "* Execute action calle copy on nodes of role `commands-common`"
   ]
  },
  {
   "cell_type": "markdown",
   "id": "3afb0259-08f7-41b5-8520-7e49b95c7ffb",
   "metadata": {},
   "source": [
    "Let's see the commands common role at actions.d. The copy action requires the source file and the destiny where the files will be placed at remote hosts."
   ]
  },
  {
   "cell_type": "code",
   "execution_count": 9,
   "id": "35ce71dc-e712-46d0-9a7a-d400a2c24d3b",
   "metadata": {},
   "outputs": [
    {
     "name": "stdout",
     "output_type": "stream",
     "text": [
      "---\n",
      "actions:\n",
      "  install-packages:\n",
      "    playbook: roles/commands-common_install.yml\n",
      "    description: Install packages in nodes\n",
      "    vars:\n",
      "    - name: packages\n",
      "      description: Packages to install (comma separated)\n",
      "\n",
      "  copy:\n",
      "    playbook: roles/commands-common_copy.yml\n",
      "    description: Copy files from localhost to remote hosts\n",
      "    vars:\n",
      "    - name: src\n",
      "      description: Source files/directory to be copied\n",
      "    - name: dest\n",
      "      description: Destination directory where files will be placed\n",
      "\n",
      "  fetch:\n",
      "    playbook: roles/commands-common_fetch.yml\n",
      "    description: Fetch files from remote hosts to localhosts\n",
      "    vars:\n",
      "    - name: src\n",
      "      description: Source files/directory to be fetched\n",
      "    - name: dest\n",
      "      description: Destination directory where files will be placed\n",
      "\n",
      "  reboot:\n",
      "    playbook: roles/commands-common_reboot.yml\n",
      "    description: Reboot a machine\n",
      "\n",
      "  run-command:\n",
      "    playbook: roles/commands-common_run-command.yml\n",
      "    description: Run a shell command in remote hosts\n",
      "    vars:\n",
      "    - name: cmd\n",
      "    - name: workdir\n",
      "      description: Working directory. It will be changed before executing the command\n",
      "      optional: yes\n",
      "\n",
      "  run-script:\n",
      "    playbook: roles/commands-common_run-script.yml\n",
      "    description: Transfer and run a script at remote hosts\n",
      "    vars:\n",
      "    - name: src\n",
      "      description: Source script to run\n",
      "    - name: args\n",
      "      description: Arguments to be passed to the script\n",
      "    - name: workdir\n",
      "      description: Working directory. It will be changed before executing the script\n",
      "      optional: yes\n",
      "\n",
      "  update-packages:\n",
      "    playbook: roles/commands-common_update-packages.yml\n",
      "    description: Update the list of packages of a system"
     ]
    }
   ],
   "source": [
    "!cat $CLAP_PATH/roles/actions.d/commands-common.yml"
   ]
  },
  {
   "cell_type": "markdown",
   "id": "3f242435-536b-41ab-8830-794319a32267",
   "metadata": {},
   "source": [
    "All roles can be accessed though the `roles` dictionary from the `role_manager` class, where the keys are the role names and values are the `Role` dataclasses. \n",
    "We will print all the roles found by the role_manager as a dict."
   ]
  },
  {
   "cell_type": "code",
   "execution_count": 10,
   "id": "2a0dedbb-868d-409d-b5b3-1b98e2c56448",
   "metadata": {},
   "outputs": [
    {
     "name": "stdout",
     "output_type": "stream",
     "text": [
      "------\n",
      "Role: commands-common\n",
      "actions:\n",
      "    copy:\n",
      "        description: Copy files from localhost to remote hosts\n",
      "        playbook: roles/commands-common_copy.yml\n",
      "        vars:\n",
      "        -   description: Source files/directory to be copied\n",
      "            name: src\n",
      "            optional: false\n",
      "        -   description: Destination directory where files will be placed\n",
      "            name: dest\n",
      "            optional: false\n",
      "    fetch:\n",
      "        description: Fetch files from remote hosts to localhosts\n",
      "        playbook: roles/commands-common_fetch.yml\n",
      "        vars:\n",
      "        -   description: Source files/directory to be fetched\n",
      "            name: src\n",
      "            optional: false\n",
      "        -   description: Destination directory where files will be placed\n",
      "            name: dest\n",
      "            optional: false\n",
      "    install-packages:\n",
      "        description: Install packages in nodes\n",
      "        playbook: roles/commands-common_install.yml\n",
      "        vars:\n",
      "        -   description: Packages to install (comma separated)\n",
      "            name: packages\n",
      "            optional: false\n",
      "    reboot:\n",
      "        description: Reboot a machine\n",
      "        playbook: roles/commands-common_reboot.yml\n",
      "        vars: []\n",
      "    run-command:\n",
      "        description: Run a shell command in remote hosts\n",
      "        playbook: roles/commands-common_run-command.yml\n",
      "        vars:\n",
      "        -   description: null\n",
      "            name: cmd\n",
      "            optional: false\n",
      "        -   description: Working directory. It will be changed before executing the\n",
      "                command\n",
      "            name: workdir\n",
      "            optional: true\n",
      "    run-script:\n",
      "        description: Transfer and run a script at remote hosts\n",
      "        playbook: roles/commands-common_run-script.yml\n",
      "        vars:\n",
      "        -   description: Source script to run\n",
      "            name: src\n",
      "            optional: false\n",
      "        -   description: Arguments to be passed to the script\n",
      "            name: args\n",
      "            optional: false\n",
      "        -   description: Working directory. It will be changed before executing the\n",
      "                script\n",
      "            name: workdir\n",
      "            optional: true\n",
      "    update-packages:\n",
      "        description: Update the list of packages of a system\n",
      "        playbook: roles/commands-common_update-packages.yml\n",
      "        vars: []\n",
      "hosts: []\n",
      "\n",
      "------\n",
      "Role: npb\n",
      "actions:\n",
      "    result:\n",
      "        description: Fetch results from execution to an local directory\n",
      "        playbook: roles/npb/result.yml\n",
      "        vars:\n",
      "        -   description: Path where resuts will be placed\n",
      "            name: output\n",
      "            optional: false\n",
      "    run:\n",
      "        description: Run MPI NAS benchmark at all nodes\n",
      "        playbook: roles/npb/run.yml\n",
      "        vars: []\n",
      "    setup:\n",
      "        description: Install all necessary packages, download and compile NPB MPI\n",
      "            benchmarks\n",
      "        playbook: roles/npb/setup.yml\n",
      "        vars:\n",
      "        -   description: Path to the SSH public key to distribute to all nodes\n",
      "            name: pubkey\n",
      "            optional: false\n",
      "        -   description: Path to the SSH private key to distribute to all nodes\n",
      "            name: privkey\n",
      "            optional: false\n",
      "hosts: []\n",
      "\n",
      "------\n",
      "Role: dcgan\n",
      "actions:\n",
      "    results:\n",
      "        description: Fetch results\n",
      "        playbook: roles/dcgan_results.yaml\n",
      "        vars:\n",
      "        -   description: Location where results should be placed (in local machine)\n",
      "            name: results_dir\n",
      "            optional: false\n",
      "        -   description: Location where user files resides on EFS\n",
      "            name: user_dir\n",
      "            optional: false\n",
      "    run:\n",
      "        description: Run DCGAN in all nodes\n",
      "        playbook: roles/dcgan_run.yaml\n",
      "        vars:\n",
      "        -   description: Location where EFS filesystem will be mounted\n",
      "            name: efs_mount_point\n",
      "            optional: false\n",
      "        -   description: Location where user files resides on EFS\n",
      "            name: user_dir\n",
      "            optional: false\n",
      "        -   description: Location where CIFAR-10 is located\n",
      "            name: cifar_data_dir\n",
      "            optional: false\n",
      "        -   description: null\n",
      "            name: master_hostname\n",
      "            optional: false\n",
      "    setup:\n",
      "        description: Setup DCGAN (download, mount EFS, and build docker)\n",
      "        playbook: roles/dcgan_setup.yaml\n",
      "        vars:\n",
      "        -   description: EFS host (IP or DNS)\n",
      "            name: efs_host\n",
      "            optional: false\n",
      "        -   description: Location where EFS filesystem will be mounted\n",
      "            name: efs_mount_point\n",
      "            optional: false\n",
      "        -   description: Location where user files resides on EFS\n",
      "            name: user_dir\n",
      "            optional: false\n",
      "hosts: []\n",
      "\n"
     ]
    }
   ],
   "source": [
    "for role_name, role_info in role_manager.roles.items():\n",
    "    # Convert role_info to a dict\n",
    "    role_dict = asdict(role_info)\n",
    "    print('------')\n",
    "    print(f\"Role: {role_name}\")\n",
    "    # Print role\n",
    "    print(f\"{yaml.dump(role_dict, indent=4)}\")"
   ]
  },
  {
   "cell_type": "markdown",
   "id": "54e3af22-0639-4457-8ec6-bc84de9d75c9",
   "metadata": {},
   "source": [
    "Let's add the `commands-comon` role to all CLAP nodes on the `nodes_ids` list.\n",
    "\n",
    "**Note**: If there is an action named `setup` defined in role, when using `add_role` from `RoleManager` class, this action will be automatically executed. The nodes will not be added to nodes if this action fails. If this action does not exists, the nodes will be added to role only."
   ]
  },
  {
   "cell_type": "code",
   "execution_count": 11,
   "id": "79f303da-b4a2-4f80-97d9-863829d1b3fe",
   "metadata": {},
   "outputs": [
    {
     "name": "stdout",
     "output_type": "stream",
     "text": [
      "Role commands-common was added to 2 nodes: ['453bb69b086443d09d2a331437e3c00d', '3d5e27ce3f16477ba4bd152db373941a']\n"
     ]
    }
   ],
   "source": [
    "added_nodes = role_manager.add_role('commands-common', node_ids)\n",
    "print(f\"Role commands-common was added to {len(added_nodes)} nodes: {node_ids}\")"
   ]
  },
  {
   "cell_type": "markdown",
   "id": "3b50ee05-4490-4020-8125-db34fd8cc1b0",
   "metadata": {},
   "source": [
    "Let's perform action update-packages at nodes and copy the file at `./playbook.yml` to remote hosts, at `~`. \n",
    "The copy action requires `src` and `dest` vars to be informed. It will be informed through `extra_args` variable.\n",
    "\n",
    "**Note**: An error will be raised if the variables are not informed "
   ]
  },
  {
   "cell_type": "code",
   "execution_count": 16,
   "id": "6e61f8d8-39c1-4329-8ddf-fa20e2b4d2c9",
   "metadata": {},
   "outputs": [
    {
     "name": "stdout",
     "output_type": "stream",
     "text": [
      "\u001b[1;35m[WARNING]: Invalid characters were found in group names but not replaced, use\u001b[0m\n",
      "\u001b[1;35m-vvvv to see details\u001b[0m\n",
      "\n",
      "PLAY [all] *********************************************************************\n",
      "\n",
      "TASK [Gathering Facts] *********************************************************\n",
      "\u001b[0;32mok: [3d5e27ce3f16477ba4bd152db373941a]\u001b[0m\n",
      "\u001b[0;32mok: [453bb69b086443d09d2a331437e3c00d]\u001b[0m\n",
      "\n",
      "TASK [Perform package list update] *********************************************\n",
      "\u001b[0;33mchanged: [453bb69b086443d09d2a331437e3c00d]\u001b[0m\n",
      "\u001b[0;33mchanged: [3d5e27ce3f16477ba4bd152db373941a]\u001b[0m\n",
      "\n",
      "PLAY RECAP *********************************************************************\n",
      "\u001b[0;33m3d5e27ce3f16477ba4bd152db373941a\u001b[0m : \u001b[0;32mok=2   \u001b[0m \u001b[0;33mchanged=1   \u001b[0m unreachable=0    failed=0    skipped=0    rescued=0    ignored=0   \n",
      "\u001b[0;33m453bb69b086443d09d2a331437e3c00d\u001b[0m : \u001b[0;32mok=2   \u001b[0m \u001b[0;33mchanged=1   \u001b[0m unreachable=0    failed=0    skipped=0    rescued=0    ignored=0   \n",
      "\u001b[1;35m[WARNING]: Invalid characters were found in group names but not replaced, use\u001b[0m\n",
      "\u001b[1;35m-vvvv to see details\u001b[0m\n",
      "\n",
      "PLAY [all] *********************************************************************\n",
      "\n",
      "TASK [Ansible copy files from local to remote hosts] ***************************\n",
      "\u001b[0;33mchanged: [3d5e27ce3f16477ba4bd152db373941a]\u001b[0m\n",
      "\u001b[0;33mchanged: [453bb69b086443d09d2a331437e3c00d]\u001b[0m\n",
      "\n",
      "PLAY RECAP *********************************************************************\n",
      "\u001b[0;33m3d5e27ce3f16477ba4bd152db373941a\u001b[0m : \u001b[0;32mok=1   \u001b[0m \u001b[0;33mchanged=1   \u001b[0m unreachable=0    failed=0    skipped=0    rescued=0    ignored=0   \n",
      "\u001b[0;33m453bb69b086443d09d2a331437e3c00d\u001b[0m : \u001b[0;32mok=1   \u001b[0m \u001b[0;33mchanged=1   \u001b[0m unreachable=0    failed=0    skipped=0    rescued=0    ignored=0   \n"
     ]
    }
   ],
   "source": [
    "copy_vars = {\n",
    "    'src': path_extend(f'{workdir}/playbook.yaml'),\n",
    "    'dest': '~'\n",
    "}\n",
    "playbook_result = role_manager.perform_action('commands-common', 'update-packages', node_ids)\n",
    "playbook_result = role_manager.perform_action('commands-common', 'copy', node_ids, extra_args=copy_vars)"
   ]
  },
  {
   "cell_type": "markdown",
   "id": "c525e6aa-ead1-4e0a-ae00-da02e728e9c0",
   "metadata": {},
   "source": [
    "We can also check all nodes that belong to a particular role using `get_all_role_nodes` method from `RoleManager` class.\n",
    "\n",
    "If your role define hosts, you can use `get_all_role_nodes_hosts`."
   ]
  },
  {
   "cell_type": "code",
   "execution_count": 17,
   "id": "001b0f9a-c4d3-4ce7-b729-d23cec4d4e90",
   "metadata": {},
   "outputs": [
    {
     "name": "stdout",
     "output_type": "stream",
     "text": [
      "['453bb69b086443d09d2a331437e3c00d', '3d5e27ce3f16477ba4bd152db373941a']\n"
     ]
    }
   ],
   "source": [
    "nodes_belonging_to_role = role_manager.get_all_role_nodes('commands-common')\n",
    "print(nodes_belonging_to_role)"
   ]
  }
 ],
 "metadata": {
  "kernelspec": {
   "display_name": "Python 3 (ipykernel)",
   "language": "python",
   "name": "python3"
  },
  "language_info": {
   "codemirror_mode": {
    "name": "ipython",
    "version": 3
   },
   "file_extension": ".py",
   "mimetype": "text/x-python",
   "name": "python",
   "nbconvert_exporter": "python",
   "pygments_lexer": "ipython3",
   "version": "3.9.12"
  }
 },
 "nbformat": 4,
 "nbformat_minor": 5
}
