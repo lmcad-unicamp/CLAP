{
 "cells": [
  {
   "cell_type": "markdown",
   "id": "92ea60d4-3c4b-4e73-bb12-c35a21e450c1",
   "metadata": {},
   "source": [
    "# Node Managing with CLAP\n",
    "\n",
    "This notebook introduces CLAP's features to create, manage, and destroy CLAP's nodes. It will walk through the `NodeManager` class, used to manage computing nodes, and `ConfigurationManager` class, used to get CLAP's instances configuration from CLAP's configurations files. The search location is defined by the `CLAP_PATH` environment variable, usually at `~/.clap/configs`.\n",
    "\n",
    "Make sure, you are executing this notebook inside CLAP's environment (clap-env), or inside a Docker container.\n",
    "\n",
    "As this notebook is inside CLAP's `examples/api` directory, let's add `../..` to python system's paths, in order to the python interpreter locate CLAP package. "
   ]
  },
  {
   "cell_type": "code",
   "execution_count": 1,
   "id": "1a9e13a7-15f5-471d-a517-dbff3edd55f6",
   "metadata": {},
   "outputs": [],
   "source": [
    "import sys\n",
    "sys.path.append('../..')"
   ]
  },
  {
   "cell_type": "markdown",
   "id": "052c9414-5760-4950-be5b-b0028e713046",
   "metadata": {},
   "source": [
    "You may execute bash commands using the exclamation mark (!). For example, you may list all python packages that are installed using pip."
   ]
  },
  {
   "cell_type": "code",
   "execution_count": 2,
   "id": "284f34ea-74b4-4d2a-a0b5-45d09859b1fd",
   "metadata": {
    "tags": []
   },
   "outputs": [
    {
     "name": "stdout",
     "output_type": "stream",
     "text": [
      "Package               Version\n",
      "--------------------- -----------\n",
      "ansible               5.8.0\n",
      "ansible-core          2.12.6\n",
      "ansible-runner        2.2.0\n",
      "anyio                 3.6.1\n",
      "argcomplete           2.0.0\n",
      "argon2-cffi           21.3.0\n",
      "argon2-cffi-bindings  21.2.0\n",
      "asttokens             2.0.5\n",
      "attrs                 21.4.0\n",
      "Babel                 2.10.1\n",
      "backcall              0.2.0\n",
      "bcrypt                3.2.2\n",
      "beautifulsoup4        4.11.1\n",
      "bleach                5.0.0\n",
      "boto                  2.49.0\n",
      "boto3                 1.23.8\n",
      "botocore              1.26.8\n",
      "certifi               2022.5.18.1\n",
      "cffi                  1.15.0\n",
      "charset-normalizer    2.0.12\n",
      "click                 8.1.3\n",
      "coloredlogs           15.0.1\n",
      "contextlib2           21.6.0\n",
      "cryptography          37.0.2\n",
      "cycler                0.11.0\n",
      "dacite                1.6.0\n",
      "debugpy               1.6.0\n",
      "decorator             5.1.1\n",
      "defusedxml            0.7.1\n",
      "docutils              0.18.1\n",
      "entrypoints           0.4\n",
      "executing             0.8.3\n",
      "fastjsonschema        2.15.3\n",
      "fire                  0.4.0\n",
      "fonttools             4.33.3\n",
      "humanfriendly         10.0\n",
      "idna                  3.3\n",
      "importlib-metadata    4.11.4\n",
      "iniconfig             1.1.1\n",
      "ipaddress             1.0.23\n",
      "ipykernel             6.13.0\n",
      "ipython               8.3.0\n",
      "ipython-genutils      0.2.0\n",
      "jedi                  0.18.1\n",
      "Jinja2                3.1.2\n",
      "jmespath              1.0.0\n",
      "json5                 0.9.8\n",
      "jsonschema            4.5.1\n",
      "jupyter-client        7.3.1\n",
      "jupyter-core          4.10.0\n",
      "jupyter-server        1.17.0\n",
      "jupyterlab            3.4.2\n",
      "jupyterlab-pygments   0.2.2\n",
      "jupyterlab-server     2.14.0\n",
      "kiwisolver            1.4.2\n",
      "lockfile              0.12.2\n",
      "MarkupSafe            2.1.1\n",
      "marshmallow           3.15.0\n",
      "marshmallow-dataclass 8.5.8\n",
      "matplotlib            3.5.2\n",
      "matplotlib-inline     0.1.3\n",
      "mistune               0.8.4\n",
      "mypy-extensions       0.4.3\n",
      "names                 0.3.0\n",
      "nbclassic             0.3.7\n",
      "nbclient              0.6.3\n",
      "nbconvert             6.5.0\n",
      "nbformat              5.4.0\n",
      "nest-asyncio          1.5.5\n",
      "netaddr               0.8.0\n",
      "notebook              6.4.11\n",
      "notebook-shim         0.1.0\n",
      "numpy                 1.22.4\n",
      "packaging             21.3\n",
      "pandocfilters         1.5.0\n",
      "paramiko              2.11.0\n",
      "parso                 0.8.3\n",
      "pexpect               4.8.0\n",
      "pickleshare           0.7.5\n",
      "Pillow                9.1.1\n",
      "pip                   22.0.4\n",
      "pluggy                1.0.0\n",
      "prometheus-client     0.14.1\n",
      "prompt-toolkit        3.0.29\n",
      "psutil                5.9.1\n",
      "ptyprocess            0.7.0\n",
      "pure-eval             0.2.2\n",
      "py                    1.11.0\n",
      "pyCLI                 2.0.3\n",
      "pycparser             2.21\n",
      "pycrypto              2.6.1\n",
      "Pygments              2.12.0\n",
      "PyNaCl                1.5.0\n",
      "pyparsing             3.0.9\n",
      "pyrsistent            0.18.1\n",
      "pytest                7.1.2\n",
      "python-daemon         2.3.0\n",
      "python-dateutil       2.8.2\n",
      "pytz                  2022.1\n",
      "PyYAML                6.0\n",
      "pyzmq                 23.0.0\n",
      "randomname            0.1.5\n",
      "requests              2.27.1\n",
      "resolvelib            0.5.4\n",
      "s3transfer            0.5.2\n",
      "scandir               1.10.0\n",
      "schema                0.7.5\n",
      "SecretStorage         2.3.1\n",
      "Send2Trash            1.8.0\n",
      "setuptools            58.1.0\n",
      "six                   1.16.0\n",
      "sniffio               1.2.0\n",
      "soupsieve             2.3.2.post1\n",
      "sqlitedict            2.0.0\n",
      "stack-data            0.2.0\n",
      "subprocess32          3.5.4\n",
      "termcolor             1.1.0\n",
      "terminado             0.15.0\n",
      "tinycss2              1.1.1\n",
      "tomli                 2.0.1\n",
      "tornado               6.1\n",
      "traitlets             5.2.1.post0\n",
      "typeguard             2.13.3\n",
      "typing_extensions     4.2.0\n",
      "typing-inspect        0.7.1\n",
      "urllib3               1.26.9\n",
      "wcwidth               0.2.5\n",
      "webencodings          0.5.1\n",
      "websocket-client      1.3.2\n",
      "wheel                 0.37.1\n",
      "zipp                  3.8.0\n",
      "\u001b[33mWARNING: You are using pip version 22.0.4; however, version 22.1.1 is available.\n",
      "You should consider upgrading via the '/usr/local/bin/python -m pip install --upgrade pip' command.\u001b[0m\u001b[33m\n",
      "\u001b[0m"
     ]
    }
   ],
   "source": [
    "!pip list"
   ]
  },
  {
   "cell_type": "markdown",
   "id": "31504508-e4a8-47a7-80b5-d1bc3417fa79",
   "metadata": {},
   "source": [
    "Let's perform some imports. In order to facilitate the creation of the `NodeManager` and `ConfigurationDatabase` classes, let's use the defaults defined in `app.cli.modules.node` which will search for configurations at `$CLAP_PATH/configs` and use `$CLAP_PATH/storage/nodes.db` as default node repository. \n",
    "- Note: by default, CLAP looks for information at `~/.clap/` directory. However, in case the `CLAP_PATH` environment variable is defined, CLAP will look for configurations and other information at `CLAP_PATH`."
   ]
  },
  {
   "cell_type": "code",
   "execution_count": 3,
   "id": "1be4fdb2-5842-48cf-bbee-57741458e326",
   "metadata": {},
   "outputs": [
    {
     "name": "stdout",
     "output_type": "stream",
     "text": [
      "CLAP_PATH: /home/lopani/tmp/eborin/mo833-atividade9/clap_config\n"
     ]
    }
   ],
   "source": [
    "# Print the CLAP_PATH environment variable\n",
    "!echo CLAP_PATH: \"$CLAP_PATH\""
   ]
  },
  {
   "cell_type": "code",
   "execution_count": 4,
   "id": "f1393acb-a665-4e6e-974d-cf1c5b2bff9a",
   "metadata": {},
   "outputs": [],
   "source": [
    "# Import some useful modules\n",
    "import time\n",
    "import yaml\n",
    "from dataclasses import asdict\n",
    "from app.cli.modules.node import get_config_db, get_node_manager\n",
    "from clap.utils import float_time_to_string"
   ]
  },
  {
   "cell_type": "code",
   "execution_count": 5,
   "id": "4292270e-ec97-49f5-a977-5db8b2c3b521",
   "metadata": {},
   "outputs": [],
   "source": [
    "# Creating configuration database and node manager objects\n",
    "configuration_db = get_config_db()\n",
    "node_manager = get_node_manager()"
   ]
  },
  {
   "cell_type": "markdown",
   "id": "93a78c16-b784-4983-b991-244a123a2797",
   "metadata": {},
   "source": [
    "`configuration_db` will load all instance configs at `~/.clap/configs/instances.yaml` and will store all in the `instance_descriptors` member. \n",
    "`instances_descriptor` is a dictionary, where the keys are the name of instance configuration at instances file and the values are dataclasses of type InstanceInfo.\n",
    "\n",
    "Let's check the contents of `$CLAP_PATH/configs/instances.yaml`"
   ]
  },
  {
   "cell_type": "code",
   "execution_count": 6,
   "id": "f5302dbb-9eb7-4e0d-a5f3-d9c91f042252",
   "metadata": {},
   "outputs": [
    {
     "name": "stdout",
     "output_type": "stream",
     "text": [
      "type-t2.small:\n",
      "    provider: aws-config-us-east-1\n",
      "    login: login-ubuntu\n",
      "    flavor: t2.small\n",
      "    image_id: ami-0c4f7023847b90238\n",
      "    security_group: open-security-group\n",
      "    boot_disk_size: 16\n",
      "\n",
      "type-t2.medium:\n",
      "    provider: aws-config-us-east-1\n",
      "    login: login-ubuntu\n",
      "    flavor: t2.medium\n",
      "    image_id: ami-0c4f7023847b90238\n",
      "    security_group: open-security-group\n",
      "    boot_disk_size: 16\n"
     ]
    }
   ],
   "source": [
    "!cat $CLAP_PATH/configs/instances.yaml"
   ]
  },
  {
   "cell_type": "code",
   "execution_count": 7,
   "id": "6c156f61-75c9-4a62-a40a-f3d126a35c99",
   "metadata": {},
   "outputs": [
    {
     "name": "stdout",
     "output_type": "stream",
     "text": [
      "All instance ids presented in my system: type-t2.small, type-t2.medium\n"
     ]
    }
   ],
   "source": [
    "all_instances_ids = list(configuration_db.instance_descriptors.keys())\n",
    "print(f\"All instance ids presented in my system: {', '.join(all_instances_ids)}\")"
   ]
  },
  {
   "cell_type": "code",
   "execution_count": 8,
   "id": "3a678fd2-82fa-467e-a2ee-1b7308bd033e",
   "metadata": {},
   "outputs": [
    {
     "name": "stdout",
     "output_type": "stream",
     "text": [
      "Instance config: InstanceInfo(provider=ProviderConfigAWS(provider_config_id='aws-config-us-east-1', region='us-east-1', access_keyfile='ec2_access_key.pub', secret_access_keyfile='ec2_access_key.pem', vpc=None, url=None, provider='aws'), login=LoginConfig(login_config_id='login-ubuntu', user='ubuntu', keypair_name='otavio_aws_2022_key', keypair_public_file='key.pub', keypair_private_file='key.pem', ssh_port=22, sudo=True, sudo_user='root'), instance=InstanceConfigAWS(instance_config_id='type-t2.medium', provider='aws-config-us-east-1', login='login-ubuntu', flavor='t2.medium', image_id='ami-0c4f7023847b90238', security_group='open-security-group', boot_disk_size=16, boot_disk_device=None, boot_disk_type=None, boot_disk_iops=None, boot_disk_snapshot=None, placement_group=None, price=None, timeout=None, network_ids=[]))\n",
      "Instance flavor: t2.medium\n"
     ]
    }
   ],
   "source": [
    "# Lets pick the type-t2.medium instance info and verify it\n",
    "type_t2_instance_info = configuration_db.instance_descriptors['type-t2.medium']\n",
    "print(f\"Instance config: {type_t2_instance_info}\")\n",
    "# Instances info are dataclasses, you can access members using access python's member access syntax (via '.'). For instance:\n",
    "flavor = type_t2_instance_info.instance.flavor\n",
    "print(f\"Instance flavor: {flavor}\")"
   ]
  },
  {
   "cell_type": "code",
   "execution_count": 9,
   "id": "5fca7e43-8d9b-4f75-bb40-0036b220c1ec",
   "metadata": {},
   "outputs": [
    {
     "name": "stdout",
     "output_type": "stream",
     "text": [
      "instance:\n",
      "    boot_disk_device: null\n",
      "    boot_disk_iops: null\n",
      "    boot_disk_size: 16\n",
      "    boot_disk_snapshot: null\n",
      "    boot_disk_type: null\n",
      "    flavor: t2.medium\n",
      "    image_id: ami-0c4f7023847b90238\n",
      "    instance_config_id: type-t2.medium\n",
      "    login: login-ubuntu\n",
      "    network_ids: []\n",
      "    placement_group: null\n",
      "    price: null\n",
      "    provider: aws-config-us-east-1\n",
      "    security_group: open-security-group\n",
      "    timeout: null\n",
      "login:\n",
      "    keypair_name: otavio_aws_2022_key\n",
      "    keypair_private_file: key.pem\n",
      "    keypair_public_file: key.pub\n",
      "    login_config_id: login-ubuntu\n",
      "    ssh_port: 22\n",
      "    sudo: true\n",
      "    sudo_user: root\n",
      "    user: ubuntu\n",
      "provider:\n",
      "    access_keyfile: ec2_access_key.pub\n",
      "    provider: aws\n",
      "    provider_config_id: aws-config-us-east-1\n",
      "    region: us-east-1\n",
      "    secret_access_keyfile: ec2_access_key.pem\n",
      "    url: null\n",
      "    vpc: null\n",
      "\n"
     ]
    }
   ],
   "source": [
    "# Dataclasses can be easily converted to dict using asdict function\n",
    "type_t2_instance_info_dict = asdict(type_t2_instance_info)\n",
    "# Lets print dict in yaml syntax\n",
    "print(yaml.dump(type_t2_instance_info_dict, indent=4))"
   ]
  },
  {
   "cell_type": "markdown",
   "id": "fa55240d-d249-4312-a83c-4dc81edba732",
   "metadata": {},
   "source": [
    "VM nodes can be started using the `start_node` function. \n",
    "This function will start `N` CLAP nodes with a given `InstanceInfo`.\n",
    "Use `start_nodes` for starting different number of nodes with different `InstanceInfos`.\n",
    "\n",
    "Let's start 2 nodes of `type_t2_instance_info`. The function will return the node IDs for nodes that are sucessfully started."
   ]
  },
  {
   "cell_type": "code",
   "execution_count": 10,
   "id": "d35017b7-5880-4c0c-956f-d1e9ef4871b2",
   "metadata": {},
   "outputs": [
    {
     "name": "stdout",
     "output_type": "stream",
     "text": [
      "\u001b[1;35m[WARNING]: provided hosts list is empty, only localhost is available. Note that\u001b[0m\n",
      "\u001b[1;35mthe implicit localhost does not match 'all'\u001b[0m\n",
      "\u001b[0;35m[DEPRECATION WARNING]: amazon.aws.ec2 has been deprecated. The ec2 module is \u001b[0m\n",
      "\u001b[0;35mbased upon a deprecated version of the AWS SDKs and is deprecated in favor of \u001b[0m\n",
      "\u001b[0;35mthe ec2_instance module. Please update your tasks. This feature will be removed\u001b[0m\n",
      "\u001b[0;35m from amazon.aws in version 4.0.0. Deprecation warnings can be disabled by \u001b[0m\n",
      "\u001b[0;35msetting deprecation_warnings=False in ansible.cfg.\u001b[0m\n",
      "\n",
      "PLAY [localhost] ***************************************************************\n",
      "\n",
      "TASK [Starting 2 type-t2.medium instances (timeout 600 seconds)] ***************\n",
      "\u001b[0;35mdeprecation_warnings=False in ansible.cfg.\u001b[0m\n",
      "\u001b[0;33mchanged: [localhost]\u001b[0m\n",
      "\n",
      "PLAY RECAP *********************************************************************\n",
      "\u001b[0;33mlocalhost\u001b[0m                  : \u001b[0;32mok=1   \u001b[0m \u001b[0;33mchanged=1   \u001b[0m unreachable=0    failed=0    skipped=0    rescued=0    ignored=0   \n",
      "\u001b[1;35m[WARNING]: provided hosts list is empty, only localhost is available. Note that\u001b[0m\n",
      "\u001b[1;35mthe implicit localhost does not match 'all'\u001b[0m\n",
      "\n",
      "PLAY [localhost] ***************************************************************\n",
      "\n",
      "TASK [Tagging instances] *******************************************************\n",
      "\u001b[0;33mchanged: [localhost] => (item={'id': 'i-05ff0a138e58f73bf', 'name': 'FranklinClark-4559b6ba'})\u001b[0m\n",
      "\u001b[0;33mchanged: [localhost] => (item={'id': 'i-070a9efc0f1fa562d', 'name': 'CindyCarrico-1ee70317'})\u001b[0m\n",
      "\n",
      "PLAY RECAP *********************************************************************\n",
      "\u001b[0;33mlocalhost\u001b[0m                  : \u001b[0;32mok=1   \u001b[0m \u001b[0;33mchanged=1   \u001b[0m unreachable=0    failed=0    skipped=0    rescued=0    ignored=0   \n"
     ]
    }
   ],
   "source": [
    "started_node_ids = node_manager.start_node(type_t2_instance_info, count=2)"
   ]
  },
  {
   "cell_type": "code",
   "execution_count": 11,
   "id": "e76dda02-f517-4f68-ad56-2e1932d1b087",
   "metadata": {},
   "outputs": [
    {
     "name": "stdout",
     "output_type": "stream",
     "text": [
      "2 nodes started: ['4559b6baec444ee0a8435bb390bf096b', '1ee703179f944bcfbe3aee92578d19be']\n"
     ]
    }
   ],
   "source": [
    "print(f\"{len(started_node_ids)} nodes started: {started_node_ids}\")"
   ]
  },
  {
   "cell_type": "markdown",
   "id": "34030f26-3cc6-4e21-97e5-a9abed24b3bc",
   "metadata": {},
   "source": [
    "Functions in CLAP's node manager usually use the IDs of nodes to operate. \n",
    "The functions `get_*_nodes` (*e.g.*, `get_all_nodes`, `get_nodes_by_id`) will return a list of `NodeDescriptor` objects. \n",
    "`NodeDescriptor` is a dataclass that describe all node information. \n",
    "As `NodeDesriptor` is a dataclass, it can be easily transformed to a dict, using `asdict` function.\n",
    "\n",
    "Let's pick all nodes in CLAP and print it using the YAML format. "
   ]
  },
  {
   "cell_type": "code",
   "execution_count": 12,
   "id": "730965cb-8f87-4579-9e98-fd4165802de2",
   "metadata": {},
   "outputs": [
    {
     "name": "stdout",
     "output_type": "stream",
     "text": [
      "---------\n",
      "Node Id: 4559b6baec444ee0a8435bb390bf096b, created at 30-05-22 10:50:14; Status: started\n",
      "---------\n",
      "cloud_instance_id: i-05ff0a138e58f73bf\n",
      "cloud_lifecycle: normal\n",
      "configuration:\n",
      "    instance:\n",
      "        boot_disk_device: null\n",
      "        boot_disk_iops: null\n",
      "        boot_disk_size: 16\n",
      "        boot_disk_snapshot: null\n",
      "        boot_disk_type: null\n",
      "        flavor: t2.medium\n",
      "        image_id: ami-0c4f7023847b90238\n",
      "        instance_config_id: type-t2.medium\n",
      "        login: login-ubuntu\n",
      "        network_ids: []\n",
      "        placement_group: null\n",
      "        price: null\n",
      "        provider: aws-config-us-east-1\n",
      "        security_group: open-security-group\n",
      "        timeout: null\n",
      "    login:\n",
      "        keypair_name: otavio_aws_2022_key\n",
      "        keypair_private_file: key.pem\n",
      "        keypair_public_file: key.pub\n",
      "        login_config_id: login-ubuntu\n",
      "        ssh_port: 22\n",
      "        sudo: true\n",
      "        sudo_user: root\n",
      "        user: ubuntu\n",
      "    provider:\n",
      "        access_keyfile: ec2_access_key.pub\n",
      "        provider: aws\n",
      "        provider_config_id: aws-config-us-east-1\n",
      "        region: us-east-1\n",
      "        secret_access_keyfile: ec2_access_key.pem\n",
      "        url: null\n",
      "        vpc: null\n",
      "creation_time: 1653907814.6297822\n",
      "extra:\n",
      "    architecture: x86_64\n",
      "    dns: ec2-3-84-185-3.compute-1.amazonaws.com\n",
      "    instance_id: i-05ff0a138e58f73bf\n",
      "    instance_tags:\n",
      "        CreatedWith: CLAP\n",
      "        owner: mo833-2022-teacher\n",
      "        principalId: AIDATSRODRVJQNZBTWZV6\n",
      "    private_dns: ip-172-31-20-47.ec2.internal\n",
      "    private_ip: 172.31.20.47\n",
      "    subnet_id: null\n",
      "    vpc_id: null\n",
      "ip: 3.84.185.3\n",
      "nickname: FranklinClark\n",
      "node_id: 4559b6baec444ee0a8435bb390bf096b\n",
      "roles: []\n",
      "status: started\n",
      "tags: {}\n",
      "type: cloud\n",
      "update_time: 1653907818.5786636\n",
      "\n",
      "**********\n",
      "---------\n",
      "Node Id: 1ee703179f944bcfbe3aee92578d19be, created at 30-05-22 10:50:14; Status: started\n",
      "---------\n",
      "cloud_instance_id: i-070a9efc0f1fa562d\n",
      "cloud_lifecycle: normal\n",
      "configuration:\n",
      "    instance:\n",
      "        boot_disk_device: null\n",
      "        boot_disk_iops: null\n",
      "        boot_disk_size: 16\n",
      "        boot_disk_snapshot: null\n",
      "        boot_disk_type: null\n",
      "        flavor: t2.medium\n",
      "        image_id: ami-0c4f7023847b90238\n",
      "        instance_config_id: type-t2.medium\n",
      "        login: login-ubuntu\n",
      "        network_ids: []\n",
      "        placement_group: null\n",
      "        price: null\n",
      "        provider: aws-config-us-east-1\n",
      "        security_group: open-security-group\n",
      "        timeout: null\n",
      "    login:\n",
      "        keypair_name: otavio_aws_2022_key\n",
      "        keypair_private_file: key.pem\n",
      "        keypair_public_file: key.pub\n",
      "        login_config_id: login-ubuntu\n",
      "        ssh_port: 22\n",
      "        sudo: true\n",
      "        sudo_user: root\n",
      "        user: ubuntu\n",
      "    provider:\n",
      "        access_keyfile: ec2_access_key.pub\n",
      "        provider: aws\n",
      "        provider_config_id: aws-config-us-east-1\n",
      "        region: us-east-1\n",
      "        secret_access_keyfile: ec2_access_key.pem\n",
      "        url: null\n",
      "        vpc: null\n",
      "creation_time: 1653907814.6303236\n",
      "extra:\n",
      "    architecture: x86_64\n",
      "    dns: ec2-54-160-254-244.compute-1.amazonaws.com\n",
      "    instance_id: i-070a9efc0f1fa562d\n",
      "    instance_tags:\n",
      "        CreatedWith: CLAP\n",
      "        owner: mo833-2022-teacher\n",
      "        principalId: AIDATSRODRVJQNZBTWZV6\n",
      "    private_dns: ip-172-31-18-188.ec2.internal\n",
      "    private_ip: 172.31.18.188\n",
      "    subnet_id: null\n",
      "    vpc_id: null\n",
      "ip: 54.160.254.244\n",
      "nickname: CindyCarrico\n",
      "node_id: 1ee703179f944bcfbe3aee92578d19be\n",
      "roles: []\n",
      "status: started\n",
      "tags: {}\n",
      "type: cloud\n",
      "update_time: 1653907818.6988323\n",
      "\n",
      "**********\n"
     ]
    }
   ],
   "source": [
    "for node in node_manager.get_all_nodes():\n",
    "    # Can be accessed with '.' operator\n",
    "    node_id = node.node_id\n",
    "    print('---------')\n",
    "    print(f\"Node Id: {node_id}, created at {float_time_to_string(node.creation_time)}; Status: {node.status}\")\n",
    "    print('---------')\n",
    "    # Or can be converted to a dict\n",
    "    node_dict = asdict(node)\n",
    "    # Printing dict in YAML format\n",
    "    print(yaml.dump(node_dict, indent=4))\n",
    "    print('**********')"
   ]
  },
  {
   "cell_type": "markdown",
   "id": "ff95f584-603c-446f-8a10-858ccd44b019",
   "metadata": {},
   "source": [
    "Nodes with status == 'started' are nodes that were started but no SSH login was performed yet. \n",
    "Once a successful login is performed, the node changes it status to 'reachable'. \n",
    "If the SSH fails, the status become 'unreachable'.\n",
    "\n",
    "The `is_alive` function  checks if the node is alive and updates its information on the local database. \n",
    "This function also updates several other information, such as IP, status *etc*.\n",
    "It returns a dictionary that maps the node ids to a boolean values that indicates whether or not the node is alive (*i.e.*, if a successfull SSH connection was performed).\n",
    "\n",
    "Note:\n",
    "* This function may output \"Unable to connect to port 22 on XXX.XXX.XXX.XXX\" when a unsucessfull login is performed. So, the function will wait a 'wait_timeout' seconds and try again for 'retries' times"
   ]
  },
  {
   "cell_type": "code",
   "execution_count": 13,
   "id": "d8c2305a-2cb2-4398-8277-5be5ab0d8029",
   "metadata": {},
   "outputs": [
    {
     "name": "stderr",
     "output_type": "stream",
     "text": [
      "Error executing command in node 4559b6ba: [Errno None] Unable to connect to port 22 on 3.84.185.3\n",
      "Error executing command in node 1ee70317: [Errno None] Unable to connect to port 22 on 54.160.254.244\n",
      "Error executing command in 4559b6ba: [Errno None] Unable to connect to port 22 on 3.84.185.3.\n",
      "Error executing command in 1ee70317: [Errno None] Unable to connect to port 22 on 54.160.254.244.\n"
     ]
    },
    {
     "name": "stdout",
     "output_type": "stream",
     "text": [
      "4559b6baec444ee0a8435bb390bf096b --> alive.\n",
      "1ee703179f944bcfbe3aee92578d19be --> alive.\n"
     ]
    }
   ],
   "source": [
    "alive_nodes = node_manager.is_alive(started_node_ids)\n",
    "for node_id, alive_flag in alive_nodes.items():\n",
    "    alive_str = 'alive' if alive_flag == True else 'not alive'\n",
    "    print(f\"{node_id} --> {alive_str}.\")"
   ]
  },
  {
   "cell_type": "markdown",
   "id": "9da6f5a1-bb10-4058-8403-d5a05b6dbe60",
   "metadata": {},
   "source": [
    "Once a node is detected to be alive, the node status changes to a reachable state.\n",
    "\n",
    "CLAP won't check node status periodically. Consider using `is_alive` function occasionally to update node information. \n",
    "\n",
    "The `get_node_by_id` function returns full node information (`NodeDescriptor` objects) that matches the specified node ids."
   ]
  },
  {
   "cell_type": "code",
   "execution_count": 14,
   "id": "1cb29180-7afe-4514-b442-80568246a19a",
   "metadata": {},
   "outputs": [
    {
     "name": "stdout",
     "output_type": "stream",
     "text": [
      "4559b6baec444ee0a8435bb390bf096b: Status: reachable; IP: 3.84.185.3\n",
      "1ee703179f944bcfbe3aee92578d19be: Status: reachable; IP: 54.160.254.244\n"
     ]
    }
   ],
   "source": [
    "nodes = node_manager.get_nodes_by_id(started_node_ids)\n",
    "for node in nodes:\n",
    "    print (f\"{node.node_id}: Status: {node.status}; IP: {node.ip}\")"
   ]
  },
  {
   "cell_type": "markdown",
   "id": "0f000f7d-07c2-4cfe-96f6-7633f974236f",
   "metadata": {},
   "source": [
    "## Tags\n",
    "\n",
    "Nodes can be annotated with tags and nodes IDs can be retrieved based on these tags.  \n",
    "This feature facilitates the interaction with the nodes. For example, the user may add tags to identify worker and manager nodes. \n",
    "Tags are a dict with key and values as strings and can be added (removed) to (from) nodes using the `add_tags` (`remove_tags`) function. \n",
    "This function takes a list of node ids and a dictionary with tags that must be added (removed).\n",
    "\n",
    "* Note: CLAP tags are not the same tags used by cloud providers; hence, the cloud provider tags (*e.g., *AWS VM node tags) are not updated or retrieved when using the CLAP tags interface.\n",
    "\n",
    "Let's add some fictitious tags to the two created nodes."
   ]
  },
  {
   "cell_type": "code",
   "execution_count": 15,
   "id": "263b1ba8-4ddf-4148-a642-323cc28eee03",
   "metadata": {},
   "outputs": [
    {
     "name": "stdout",
     "output_type": "stream",
     "text": [
      "Tags {'example-notebook': 'cool', 'uuid': 'worker-0'} were added to nodes: ['4559b6baec444ee0a8435bb390bf096b']\n",
      "Tags {'example-notebook': 'cool', 'uuid': 'worker-1'} were added to nodes: ['1ee703179f944bcfbe3aee92578d19be']\n"
     ]
    }
   ],
   "source": [
    "# Lets add these tags to started_node_ids[0] only\n",
    "tags = {\n",
    "    'example-notebook': 'cool',\n",
    "    'uuid': 'worker-0'\n",
    "}\n",
    "node_ids_with_tags_added = node_manager.add_tags([started_node_ids[0]], tags)\n",
    "print(f'Tags {tags} were added to nodes: {node_ids_with_tags_added}')\n",
    "\n",
    "# Lets add these tags to started_node_ids[1] only\n",
    "tags = {\n",
    "    'example-notebook': 'cool',\n",
    "    'uuid': 'worker-1'\n",
    "}\n",
    "node_ids_with_tags_added = node_manager.add_tags([started_node_ids[1]], tags)\n",
    "print(f'Tags {tags} were added to nodes: {node_ids_with_tags_added}')"
   ]
  },
  {
   "cell_type": "markdown",
   "id": "c3dff75b-25cc-4477-81ed-a364ac6a0b7a",
   "metadata": {},
   "source": [
    "We can easily get full node information based on node tags, using get_nodes_with_tag or get_nodes_with_tag_value. The primer will get all nodes that contains a the key specified and the last, the nodes that has the tag and a speficied value."
   ]
  },
  {
   "cell_type": "code",
   "execution_count": 16,
   "id": "5c8ec849-96d8-42a9-bcb3-662172d38039",
   "metadata": {},
   "outputs": [
    {
     "name": "stdout",
     "output_type": "stream",
     "text": [
      "2 nodes with example-notebook tag:  ['4559b6baec444ee0a8435bb390bf096b', '1ee703179f944bcfbe3aee92578d19be']\n",
      "1 node with work-0 tag:  ['4559b6baec444ee0a8435bb390bf096b']\n"
     ]
    }
   ],
   "source": [
    "# Get nodes that have tag 'example-notebook'\n",
    "node_descriptors = node_manager.get_nodes_with_tag('example-notebook')\n",
    "node_ids = [node.node_id for node in node_descriptors]\n",
    "print(f\"{len(node_ids)} nodes with example-notebook tag:  {node_ids}\")\n",
    "\n",
    "# Get nodes that has tag 'uuid' and value 'worker-0'\n",
    "node_descriptors = node_manager.get_nodes_with_tag_value('uuid', 'worker-0')\n",
    "node_ids = [node.node_id for node in node_descriptors]\n",
    "print(f\"{len(node_ids)} node with work-0 tag:  {node_ids}\")\n"
   ]
  },
  {
   "cell_type": "markdown",
   "id": "523662b2-706d-4d19-92dc-5eab063a31f9",
   "metadata": {},
   "source": [
    "# Pausing and resuming nodes\n",
    "\n",
    "CLAP supports pausing and resuming nodes. \n",
    "Pausing and resuming will not terminate nodes or reboot nodes, it will only suspend nodes. \n",
    "Once a node is paused, its status is changed to 'paused' and its IP to None. \n",
    "Once the node is resumed, it status is changed to 'started'. \n",
    "The `resume_nodes` function will also try to log into the node again, if a sucessfull login is performed, its status is changed to `reachable`, else `unreachable`.\n",
    "\n",
    "`pause_nodes` and `resume_nodes` methods will pause and resume nodes taking the nodes ids as input and return a list of node ids for nodes that successfuly performed the operations.\n",
    "\n",
    "Notes:\n",
    "* Pausing nodes that already have been paused or resuming nodes already running will result in nothing.\n",
    "* If a paused node is resumed outside CLAP (*e.g.,* on the web console or by other tool), you can use the `is_alive` function to update node status and all other information.\n",
    "* If the resume operation is called before instance effectively be paused, an error will be raised. In aws provider, the error is something like: `The instance 'i-09XXXXX' is not in a state from which it can be started`"
   ]
  },
  {
   "cell_type": "code",
   "execution_count": 17,
   "id": "bb5ba73e-3844-4065-8641-a72bfcbc8d44",
   "metadata": {},
   "outputs": [
    {
     "name": "stdout",
     "output_type": "stream",
     "text": [
      "\u001b[1;35m[WARNING]: provided hosts list is empty, only localhost is available. Note that\u001b[0m\n",
      "\u001b[1;35mthe implicit localhost does not match 'all'\u001b[0m\n",
      "\u001b[0;35m[DEPRECATION WARNING]: amazon.aws.ec2 has been deprecated. The ec2 module is \u001b[0m\n",
      "\u001b[0;35mbased upon a deprecated version of the AWS SDKs and is deprecated in favor of \u001b[0m\n",
      "\u001b[0;35mthe ec2_instance module. Please update your tasks. This feature will be removed\u001b[0m\n",
      "\u001b[0;35m from amazon.aws in version 4.0.0. Deprecation warnings can be disabled by \u001b[0m\n",
      "\u001b[0;35msetting deprecation_warnings=False in ansible.cfg.\u001b[0m\n",
      "\n",
      "PLAY [localhost] ***************************************************************\n",
      "\n",
      "TASK [Pausing nodes `CindyCarrico, FranklinClark`] *****************************\n",
      "\u001b[0;35mdeprecation_warnings=False in ansible.cfg.\u001b[0m\n",
      "\u001b[0;33mchanged: [localhost]\u001b[0m\n",
      "\n",
      "PLAY RECAP *********************************************************************\n",
      "\u001b[0;33mlocalhost\u001b[0m                  : \u001b[0;32mok=1   \u001b[0m \u001b[0;33mchanged=1   \u001b[0m unreachable=0    failed=0    skipped=0    rescued=0    ignored=0   \n",
      "Paused 2 nodes: ['4559b6baec444ee0a8435bb390bf096b', '1ee703179f944bcfbe3aee92578d19be']\n",
      "Node 4559b6baec444ee0a8435bb390bf096b (nickname: FranklinClark), status: paused, IP: None\n",
      "Node 1ee703179f944bcfbe3aee92578d19be (nickname: CindyCarrico), status: paused, IP: None\n"
     ]
    }
   ],
   "source": [
    "# Pausing nodes will pause nodes based on their node ids. It will return a list of successfuly paused node ids\n",
    "paused_node_ids = node_manager.pause_nodes(started_node_ids)\n",
    "print(f\"Paused {len(paused_node_ids)} nodes: {paused_node_ids}\")\n",
    "\n",
    "# Printing node status\n",
    "nodes = node_manager.get_nodes_by_id(paused_node_ids)\n",
    "for node in nodes:\n",
    "    print(f'Node {node.node_id} (nickname: {node.nickname}), status: {node.status}, IP: {node.ip}')"
   ]
  },
  {
   "cell_type": "code",
   "execution_count": 18,
   "id": "15e03adf-766c-46f6-8e27-f0881592e7b0",
   "metadata": {},
   "outputs": [],
   "source": [
    "# Let's wait ~1 minute for cloud provider perform state change (from running to paused). Thenwe will try to resume\n",
    "time.sleep(60)"
   ]
  },
  {
   "cell_type": "code",
   "execution_count": 19,
   "id": "eeacf131-6424-48c9-8327-1b747f0f3a66",
   "metadata": {},
   "outputs": [
    {
     "name": "stdout",
     "output_type": "stream",
     "text": [
      "\u001b[1;35m[WARNING]: provided hosts list is empty, only localhost is available. Note that\u001b[0m\n",
      "\u001b[1;35mthe implicit localhost does not match 'all'\u001b[0m\n",
      "\u001b[0;35m[DEPRECATION WARNING]: amazon.aws.ec2 has been deprecated. The ec2 module is \u001b[0m\n",
      "\u001b[0;35mbased upon a deprecated version of the AWS SDKs and is deprecated in favor of \u001b[0m\n",
      "\u001b[0;35mthe ec2_instance module. Please update your tasks. This feature will be removed\u001b[0m\n",
      "\u001b[0;35m from amazon.aws in version 4.0.0. Deprecation warnings can be disabled by \u001b[0m\n",
      "\u001b[0;35msetting deprecation_warnings=False in ansible.cfg.\u001b[0m\n",
      "\n",
      "PLAY [localhost] ***************************************************************\n",
      "\n",
      "TASK [Resuming nodes `CindyCarrico, FranklinClark`] ****************************\n",
      "\u001b[0;35mdeprecation_warnings=False in ansible.cfg.\u001b[0m\n",
      "\u001b[0;33mchanged: [localhost]\u001b[0m\n",
      "\n",
      "PLAY RECAP *********************************************************************\n",
      "\u001b[0;33mlocalhost\u001b[0m                  : \u001b[0;32mok=1   \u001b[0m \u001b[0;33mchanged=1   \u001b[0m unreachable=0    failed=0    skipped=0    rescued=0    ignored=0   \n"
     ]
    },
    {
     "name": "stderr",
     "output_type": "stream",
     "text": [
      "Error executing command in node 1ee70317: [Errno None] Unable to connect to port 22 on 34.224.99.201\n",
      "Error executing command in node 4559b6ba: [Errno None] Unable to connect to port 22 on 18.212.248.79\n",
      "Error executing command in 4559b6ba: [Errno None] Unable to connect to port 22 on 18.212.248.79.\n",
      "Error executing command in 1ee70317: [Errno None] Unable to connect to port 22 on 34.224.99.201.\n"
     ]
    },
    {
     "name": "stdout",
     "output_type": "stream",
     "text": [
      "Resumed 2 nodes: ['4559b6baec444ee0a8435bb390bf096b', '1ee703179f944bcfbe3aee92578d19be']\n",
      "Node 4559b6baec444ee0a8435bb390bf096b (nickname: FranklinClark), status: reachable, IP: 18.212.248.79\n",
      "Node 1ee703179f944bcfbe3aee92578d19be (nickname: CindyCarrico), status: reachable, IP: 34.224.99.201\n"
     ]
    }
   ],
   "source": [
    "# Resuming nodes will resume nodes based on their node ids. It will return a list of successfuly paused node ids\n",
    "resumed_node_ids = node_manager.resume_nodes(paused_node_ids)\n",
    "print(f\"Resumed {len(resumed_node_ids)} nodes: {resumed_node_ids}\")\n",
    "\n",
    "# Printing node status\n",
    "nodes = node_manager.get_nodes_by_id(resumed_node_ids)\n",
    "for node in nodes:\n",
    "    print(f'Node {node.node_id} (nickname: {node.nickname}), status: {node.status}, IP: {node.ip}')"
   ]
  },
  {
   "cell_type": "markdown",
   "id": "8b1cf903-a4da-43da-b75c-35f921027152",
   "metadata": {},
   "source": [
    "# Stopping (Terminating) nodes\n",
    "\n",
    "Finally, nodes can be stopped (terminated at cloud provider) using the `stop_nodes` method. \n",
    "The method take the node IDs as input and returns a list of node IDs successfully stopped. \n",
    "Stopped nodes will automatically be removed from node repository unless the `remove_nodes` parameter is passed to the method as False."
   ]
  },
  {
   "cell_type": "code",
   "execution_count": 20,
   "id": "b4fad2fb-d3cf-4fd1-a8ff-ba2a64706cba",
   "metadata": {},
   "outputs": [
    {
     "name": "stdout",
     "output_type": "stream",
     "text": [
      "\u001b[1;35m[WARNING]: provided hosts list is empty, only localhost is available. Note that\u001b[0m\n",
      "\u001b[1;35mthe implicit localhost does not match 'all'\u001b[0m\n",
      "\u001b[0;35m[DEPRECATION WARNING]: amazon.aws.ec2 has been deprecated. The ec2 module is \u001b[0m\n",
      "\u001b[0;35mbased upon a deprecated version of the AWS SDKs and is deprecated in favor of \u001b[0m\n",
      "\u001b[0;35mthe ec2_instance module. Please update your tasks. This feature will be removed\u001b[0m\n",
      "\u001b[0;35m from amazon.aws in version 4.0.0. Deprecation warnings can be disabled by \u001b[0m\n",
      "\u001b[0;35msetting deprecation_warnings=False in ansible.cfg.\u001b[0m\n",
      "\n",
      "PLAY [localhost] ***************************************************************\n",
      "\n",
      "TASK [Stopping nodes CindyCarrico, FranklinClark] ******************************\n",
      "\u001b[0;35mdeprecation_warnings=False in ansible.cfg.\u001b[0m\n",
      "\u001b[0;33mchanged: [localhost]\u001b[0m\n",
      "\n",
      "PLAY RECAP *********************************************************************\n",
      "\u001b[0;33mlocalhost\u001b[0m                  : \u001b[0;32mok=1   \u001b[0m \u001b[0;33mchanged=1   \u001b[0m unreachable=0    failed=0    skipped=0    rescued=0    ignored=0   \n",
      "Stopped 2 nodes: ['4559b6baec444ee0a8435bb390bf096b', '1ee703179f944bcfbe3aee92578d19be']\n"
     ]
    }
   ],
   "source": [
    "stopped_node_ids = node_manager.stop_nodes(resumed_node_ids)\n",
    "print(f\"Stopped {len(stopped_node_ids)} nodes: {stopped_node_ids}\")"
   ]
  },
  {
   "cell_type": "code",
   "execution_count": 21,
   "id": "f57d701f-dc5c-4d37-884e-3e0c7b1a3452",
   "metadata": {},
   "outputs": [
    {
     "name": "stdout",
     "output_type": "stream",
     "text": [
      "Got 0 nodes: []\n"
     ]
    }
   ],
   "source": [
    "# No more nodes in repository...\n",
    "nodes = node_manager.get_all_nodes()\n",
    "print(f\"Got {len(nodes)} nodes: {nodes}\")"
   ]
  }
 ],
 "metadata": {
  "kernelspec": {
   "display_name": "Python 3 (ipykernel)",
   "language": "python",
   "name": "python3"
  },
  "language_info": {
   "codemirror_mode": {
    "name": "ipython",
    "version": 3
   },
   "file_extension": ".py",
   "mimetype": "text/x-python",
   "name": "python",
   "nbconvert_exporter": "python",
   "pygments_lexer": "ipython3",
   "version": "3.9.12"
  }
 },
 "nbformat": 4,
 "nbformat_minor": 5
}
